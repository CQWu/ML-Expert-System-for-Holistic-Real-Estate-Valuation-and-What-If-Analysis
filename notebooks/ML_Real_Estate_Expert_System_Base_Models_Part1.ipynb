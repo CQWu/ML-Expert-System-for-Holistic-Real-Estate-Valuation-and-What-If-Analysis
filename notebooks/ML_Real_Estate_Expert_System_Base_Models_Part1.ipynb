{
  "cells": [
    {
      "cell_type": "code",
      "execution_count": null,
      "metadata": {
        "id": "88IWE5UDqpFA"
      },
      "outputs": [],
      "source": [
        "import joblib\n",
        "import numpy as np\n",
        "import pandas as pd\n",
        "from sklearn.preprocessing import PolynomialFeatures\n",
        "from sklearn.preprocessing import MinMaxScaler\n",
        "from sklearn.model_selection import RandomizedSearchCV\n",
        "from sklearn.model_selection import train_test_split\n",
        "from sklearn.metrics import r2_score, mean_squared_error, mean_absolute_percentage_error\n",
        "from xgboost import XGBRegressor"
      ]
    },
    {
      "cell_type": "code",
      "execution_count": null,
      "metadata": {
        "id": "LbaG_FbGqpFB"
      },
      "outputs": [],
      "source": []
    },
    {
      "cell_type": "code",
      "execution_count": null,
      "metadata": {
        "id": "ZXMR76ANqpFB"
      },
      "outputs": [],
      "source": [
        "from scipy.stats import uniform\n",
        "from scipy.stats import randint\n"
      ]
    },
    {
      "cell_type": "code",
      "execution_count": null,
      "metadata": {
        "id": "aYifX3I7qpFB"
      },
      "outputs": [],
      "source": [
        "df = pd.read_csv('data3_0505.csv', index_col=0)"
      ]
    },
    {
      "cell_type": "code",
      "execution_count": null,
      "metadata": {
        "id": "lFf0HaTkqpFC",
        "outputId": "39f7ad06-6329-4cca-fde6-75487034cd41"
      },
      "outputs": [
        {
          "name": "stdout",
          "output_type": "stream",
          "text": [
            "<class 'pandas.core.frame.DataFrame'>\n",
            "Int64Index: 21613 entries, 0 to 21612\n",
            "Data columns (total 30 columns):\n",
            " #   Column          Non-Null Count  Dtype  \n",
            "---  ------          --------------  -----  \n",
            " 0   price           21613 non-null  float64\n",
            " 1   bedrooms        21613 non-null  int64  \n",
            " 2   bathrooms       21613 non-null  float64\n",
            " 3   sqft_living     21613 non-null  int64  \n",
            " 4   sqft_lot        21613 non-null  int64  \n",
            " 5   floors          21613 non-null  float64\n",
            " 6   waterfront      21613 non-null  int64  \n",
            " 7   view            21613 non-null  int64  \n",
            " 8   condition       21613 non-null  int64  \n",
            " 9   grade           21613 non-null  int64  \n",
            " 10  sqft_above      21613 non-null  int64  \n",
            " 11  sqft_basement   21613 non-null  int64  \n",
            " 12  yr_built        21613 non-null  int64  \n",
            " 13  yr_renovated    21613 non-null  int64  \n",
            " 14  lat             21613 non-null  float64\n",
            " 15  long            21613 non-null  float64\n",
            " 16  sqft_living15   21613 non-null  int64  \n",
            " 17  sqft_lot15      21613 non-null  int64  \n",
            " 18  population      21613 non-null  int64  \n",
            " 19  density         21613 non-null  float64\n",
            " 20  violent_crime   21613 non-null  float64\n",
            " 21  property_crime  21613 non-null  float64\n",
            " 22  other_crime     21613 non-null  float64\n",
            " 23  median_income   21613 non-null  int64  \n",
            " 24  yr_sold         21613 non-null  int64  \n",
            " 25  mon_sold        21613 non-null  int64  \n",
            " 26  day_of_week     21613 non-null  int64  \n",
            " 27  dist_to_loc0    21613 non-null  float64\n",
            " 28  dist_to_loc1    21613 non-null  float64\n",
            " 29  dist_to_loc2    21613 non-null  float64\n",
            "dtypes: float64(12), int64(18)\n",
            "memory usage: 5.1 MB\n"
          ]
        }
      ],
      "source": [
        "df.info()"
      ]
    },
    {
      "cell_type": "code",
      "execution_count": null,
      "metadata": {
        "id": "Iacrdu4sqpFC"
      },
      "outputs": [],
      "source": [
        "X=df.drop(['price'], axis=1)\n",
        "y = df['price']"
      ]
    },
    {
      "cell_type": "markdown",
      "metadata": {
        "id": "mpzEor55qpFD"
      },
      "source": [
        "### Training/Test Set Split and MinMaxScaler"
      ]
    },
    {
      "cell_type": "code",
      "execution_count": null,
      "metadata": {
        "id": "vOH7auw4qpFE"
      },
      "outputs": [],
      "source": [
        "X_train, X_test, y_train, y_test = train_test_split(X, y, test_size=0.25, random_state=7633)"
      ]
    },
    {
      "cell_type": "code",
      "execution_count": null,
      "metadata": {
        "id": "SevAolcBqpFE",
        "outputId": "59e16c1d-ce58-4b11-bc49-0d9460bb387f"
      },
      "outputs": [
        {
          "data": {
            "text/plain": [
              "MinMaxScaler()"
            ]
          },
          "execution_count": 9,
          "metadata": {},
          "output_type": "execute_result"
        }
      ],
      "source": [
        "scaler = MinMaxScaler()\n",
        "scaler.fit(X_train)"
      ]
    },
    {
      "cell_type": "code",
      "execution_count": null,
      "metadata": {
        "id": "8ABELVaTqpFE"
      },
      "outputs": [],
      "source": [
        "X_train = pd.DataFrame(scaler.transform(X_train), index=X_train.index)\n",
        "X_test = pd.DataFrame(scaler.transform(X_test), index=X_test.index)"
      ]
    },
    {
      "cell_type": "markdown",
      "metadata": {
        "id": "55NEm5K2qpFF"
      },
      "source": [
        "## RandomizedSearchCV XGB"
      ]
    },
    {
      "cell_type": "code",
      "execution_count": null,
      "metadata": {
        "id": "GrOqH-A4qpFF"
      },
      "outputs": [],
      "source": [
        "xgb_param_dist = {\n",
        "    'learning_rate': [0.03, 0.04, 0.05, 0.06, 0.07],\n",
        "    'max_depth': [5, 6, 7],\n",
        "    'n_estimators': [400, 500, 600],\n",
        "    'colsample_bytree': np.arange(0.1, 1.1, 0.1),\n",
        "    'reg_alpha': [1, 3, 5],\n",
        "    'reg_lambda': [3, 5, 7]\n",
        "}"
      ]
    },
    {
      "cell_type": "code",
      "execution_count": null,
      "metadata": {
        "id": "98T2LWsOqpFF"
      },
      "outputs": [],
      "source": [
        "model = XGBRegressor()"
      ]
    },
    {
      "cell_type": "code",
      "execution_count": null,
      "metadata": {
        "id": "UhSD8z47qpFF"
      },
      "outputs": [],
      "source": [
        "model_search = RandomizedSearchCV(model, param_distributions=xgb_param_dist, cv=5, n_jobs=-1)"
      ]
    },
    {
      "cell_type": "code",
      "execution_count": null,
      "metadata": {
        "id": "k7gcoNcIqpFF",
        "outputId": "c47a06ab-fd51-43fc-ad4c-e2010e794f17"
      },
      "outputs": [
        {
          "data": {
            "text/plain": [
              "RandomizedSearchCV(cv=5,\n",
              "                   estimator=XGBRegressor(base_score=None, booster=None,\n",
              "                                          callbacks=None,\n",
              "                                          colsample_bylevel=None,\n",
              "                                          colsample_bynode=None,\n",
              "                                          colsample_bytree=None,\n",
              "                                          early_stopping_rounds=None,\n",
              "                                          enable_categorical=False,\n",
              "                                          eval_metric=None, feature_types=None,\n",
              "                                          gamma=None, gpu_id=None,\n",
              "                                          grow_policy=None,\n",
              "                                          importance_type=None,\n",
              "                                          interaction_constraints=None,\n",
              "                                          learning_rate=...\n",
              "                                          min_child_weight=None, missing=nan,\n",
              "                                          monotone_constraints=None,\n",
              "                                          n_estimators=100, n_jobs=None,\n",
              "                                          num_parallel_tree=None,\n",
              "                                          predictor=None, random_state=None, ...),\n",
              "                   n_jobs=-1,\n",
              "                   param_distributions={'colsample_bytree': array([0.1, 0.2, 0.3, 0.4, 0.5, 0.6, 0.7, 0.8, 0.9, 1. ]),\n",
              "                                        'learning_rate': [0.03, 0.04, 0.05,\n",
              "                                                          0.06, 0.07],\n",
              "                                        'max_depth': [5, 6, 7],\n",
              "                                        'n_estimators': [400, 500, 600],\n",
              "                                        'reg_alpha': [1, 3, 5],\n",
              "                                        'reg_lambda': [3, 5, 7]})"
            ]
          },
          "execution_count": 14,
          "metadata": {},
          "output_type": "execute_result"
        }
      ],
      "source": [
        "model_search.fit(X_train, y_train)"
      ]
    },
    {
      "cell_type": "code",
      "execution_count": null,
      "metadata": {
        "id": "2FRo3eK6qpFG",
        "outputId": "a4924b00-d9ec-4cda-cc66-407ad284d114"
      },
      "outputs": [
        {
          "name": "stdout",
          "output_type": "stream",
          "text": [
            "{'reg_lambda': 5, 'reg_alpha': 3, 'n_estimators': 500, 'max_depth': 6, 'learning_rate': 0.06, 'colsample_bytree': 0.30000000000000004}\n"
          ]
        }
      ],
      "source": [
        "print(model_search.best_params_)"
      ]
    },
    {
      "cell_type": "code",
      "execution_count": null,
      "metadata": {
        "id": "niFBNFXQqpFG"
      },
      "outputs": [],
      "source": [
        "best_xgb = model_search.best_estimator_"
      ]
    },
    {
      "cell_type": "code",
      "execution_count": null,
      "metadata": {
        "id": "EubzHvAxqpFG",
        "outputId": "db8f19c6-ef43-4775-f7ac-f246f4fab418"
      },
      "outputs": [
        {
          "name": "stdout",
          "output_type": "stream",
          "text": [
            "training set r-squared:  0.9742728269817792\n",
            "test set r-squared:      0.9093028511552357\n",
            "training set rmse:       58449.9822487445\n",
            "test set rmse:           112973.15818153936\n",
            "training set mape:       0.08862337699680914\n",
            "test set mape:           0.11299003587536398\n"
          ]
        }
      ],
      "source": [
        "pred_train = best_xgb.predict(X_train)\n",
        "pred_test = best_xgb.predict(X_test)\n",
        "print('training set r-squared: ', best_xgb.score(X_train, y_train))\n",
        "print('test set r-squared:     ', best_xgb.score(X_test, y_test))\n",
        "print('training set rmse:      ', np.sqrt(mean_squared_error(y_train, pred_train)))\n",
        "print('test set rmse:          ', np.sqrt(mean_squared_error(y_test, pred_test)))\n",
        "print('training set mape:      ', mean_absolute_percentage_error(y_train, pred_train))\n",
        "print('test set mape:          ', mean_absolute_percentage_error(y_test, pred_test))"
      ]
    },
    {
      "cell_type": "code",
      "execution_count": null,
      "metadata": {
        "id": "CQ6rRp3IqpFG"
      },
      "outputs": [],
      "source": []
    },
    {
      "cell_type": "code",
      "execution_count": null,
      "metadata": {
        "id": "lBoBgAK4qpFG"
      },
      "outputs": [],
      "source": [
        "model_search_log = RandomizedSearchCV(model, param_distributions=xgb_param_dist, cv=5, n_jobs=-1)"
      ]
    },
    {
      "cell_type": "code",
      "execution_count": null,
      "metadata": {
        "id": "7ZGzlkdQqpFG",
        "outputId": "41cbd2c9-4ef6-4613-9607-ebd396fca7f6"
      },
      "outputs": [
        {
          "data": {
            "text/plain": [
              "RandomizedSearchCV(cv=5,\n",
              "                   estimator=XGBRegressor(base_score=None, booster=None,\n",
              "                                          callbacks=None,\n",
              "                                          colsample_bylevel=None,\n",
              "                                          colsample_bynode=None,\n",
              "                                          colsample_bytree=None,\n",
              "                                          early_stopping_rounds=None,\n",
              "                                          enable_categorical=False,\n",
              "                                          eval_metric=None, feature_types=None,\n",
              "                                          gamma=None, gpu_id=None,\n",
              "                                          grow_policy=None,\n",
              "                                          importance_type=None,\n",
              "                                          interaction_constraints=None,\n",
              "                                          learning_rate=...\n",
              "                                          min_child_weight=None, missing=nan,\n",
              "                                          monotone_constraints=None,\n",
              "                                          n_estimators=100, n_jobs=None,\n",
              "                                          num_parallel_tree=None,\n",
              "                                          predictor=None, random_state=None, ...),\n",
              "                   n_jobs=-1,\n",
              "                   param_distributions={'colsample_bytree': array([0.1, 0.2, 0.3, 0.4, 0.5, 0.6, 0.7, 0.8, 0.9, 1. ]),\n",
              "                                        'learning_rate': [0.03, 0.04, 0.05,\n",
              "                                                          0.06, 0.07],\n",
              "                                        'max_depth': [5, 6, 7],\n",
              "                                        'n_estimators': [400, 500, 600],\n",
              "                                        'reg_alpha': [1, 3, 5],\n",
              "                                        'reg_lambda': [3, 5, 7]})"
            ]
          },
          "execution_count": 19,
          "metadata": {},
          "output_type": "execute_result"
        }
      ],
      "source": [
        "model_search_log.fit(X_train, np.log(y_train))"
      ]
    },
    {
      "cell_type": "code",
      "execution_count": null,
      "metadata": {
        "id": "P992BHJMqpFG",
        "outputId": "4328e7f6-5b0b-438e-aeb8-764e54e84afa"
      },
      "outputs": [
        {
          "name": "stdout",
          "output_type": "stream",
          "text": [
            "{'reg_lambda': 5, 'reg_alpha': 1, 'n_estimators': 500, 'max_depth': 7, 'learning_rate': 0.04, 'colsample_bytree': 0.5}\n"
          ]
        }
      ],
      "source": [
        "print(model_search_log.best_params_)"
      ]
    },
    {
      "cell_type": "code",
      "execution_count": null,
      "metadata": {
        "id": "zSWM6Jz-qpFH"
      },
      "outputs": [],
      "source": [
        "best_xgb_log = model_search_log.best_estimator_"
      ]
    },
    {
      "cell_type": "code",
      "execution_count": null,
      "metadata": {
        "id": "Qc7hBW1_qpFH",
        "outputId": "79f66b88-bfb3-4d46-dcfa-0c33b348a8be"
      },
      "outputs": [
        {
          "name": "stdout",
          "output_type": "stream",
          "text": [
            "training set r-squared:  0.9514713053000792\n",
            "test set r-squared:      0.9181730567603775\n",
            "training set rmse:       72355.35138612155\n",
            "test set rmse:           121580.84223753597\n",
            "training set mape:       0.08433775819376059\n",
            "test set mape:           0.10783065960394303\n"
          ]
        }
      ],
      "source": [
        "pred_train = np.exp(best_xgb_log.predict(X_train))\n",
        "pred_test = np.exp(best_xgb_log.predict(X_test))\n",
        "print('training set r-squared: ', best_xgb_log.score(X_train, np.log(y_train)))\n",
        "print('test set r-squared:     ', best_xgb_log.score(X_test, np.log(y_test)))\n",
        "print('training set rmse:      ', np.sqrt(mean_squared_error(y_train, pred_train)))\n",
        "print('test set rmse:          ', np.sqrt(mean_squared_error(y_test, pred_test)))\n",
        "print('training set mape:      ', mean_absolute_percentage_error(y_train, pred_train))\n",
        "print('test set mape:          ', mean_absolute_percentage_error(y_test, pred_test))"
      ]
    },
    {
      "cell_type": "code",
      "execution_count": null,
      "metadata": {
        "id": "VURTxgY6qpFH",
        "outputId": "51bc4fa5-208b-4d9c-fd88-3349ce1a1636"
      },
      "outputs": [
        {
          "data": {
            "text/plain": [
              "['best_xgb_log_0505.joblib']"
            ]
          },
          "execution_count": 24,
          "metadata": {},
          "output_type": "execute_result"
        }
      ],
      "source": [
        "joblib.dump(best_xgb_log, 'best_xgb_log_0505.joblib')"
      ]
    },
    {
      "cell_type": "markdown",
      "metadata": {
        "id": "j-3kGqhxqpFH"
      },
      "source": [
        "### KernelRidge"
      ]
    },
    {
      "cell_type": "code",
      "execution_count": null,
      "metadata": {
        "id": "n_3oFMF0qpFH"
      },
      "outputs": [],
      "source": [
        "from sklearn.kernel_ridge import KernelRidge"
      ]
    },
    {
      "cell_type": "code",
      "execution_count": null,
      "metadata": {
        "id": "o1pMvZEfqpFI",
        "outputId": "52282750-e9f3-4c20-a55a-a4e6210853ec"
      },
      "outputs": [
        {
          "name": "stdout",
          "output_type": "stream",
          "text": [
            "Best hyperparameters:  {'gamma': 1.0, 'alpha': 0.1}\n",
            "Best score:  0.5025412902064414\n",
            "training set r-squared:  -2.192623329720447\n",
            "test set r-squared:      -2.083761174785212\n",
            "training set rmse:       142951.6879019184\n",
            "test set rmse:           371429.76996746095\n",
            "training set mape:       0.1295081037707068\n",
            "test set mape:           0.16279750183436106\n"
          ]
        },
        {
          "data": {
            "text/plain": [
              "['best_kr_log_0505.joblib']"
            ]
          },
          "execution_count": 27,
          "metadata": {},
          "output_type": "execute_result"
        }
      ],
      "source": [
        "# define the parameter grid for the randomized search\n",
        "param_grid_KR = {'alpha': np.logspace(-3, 3, 7),\n",
        "              'gamma': np.logspace(-3, 3, 7)}\n",
        "\n",
        "# initialize a kernel ridge model with RBF kernel\n",
        "model_KR = KernelRidge(kernel='rbf')\n",
        "\n",
        "# initialize a randomized search with 5-fold cross-validation\n",
        "random_search_KR = RandomizedSearchCV(estimator=model_KR, param_distributions=param_grid_KR,\n",
        "                                   n_iter=10, cv=5, n_jobs=-1, random_state=42)\n",
        "\n",
        "# fit the randomized search to the data\n",
        "random_search_KR.fit(X_train, np.log(y_train))\n",
        "\n",
        "# print the best hyperparameters and best score\n",
        "print(\"Best hyperparameters: \", random_search_KR.best_params_)\n",
        "print(\"Best score: \", random_search_KR.best_score_)\n",
        "\n",
        "best_KernelRidge_log = random_search_KR.best_estimator_\n",
        "\n",
        "pred_train = np.exp(best_KernelRidge_log.predict(X_train))\n",
        "pred_test = np.exp(best_KernelRidge_log.predict(X_test))\n",
        "# print('training set r-squared: ', best_KernelRidge_log.score(X_train, y_train))\n",
        "# print('test set r-squared:     ', best_KernelRidge_log.score(X_test, y_test))\n",
        "print('training set r-squared: ', best_KernelRidge_log.score(X_train, np.log(y_train)))\n",
        "print('test set r-squared:     ', best_KernelRidge_log.score(X_test, np.log(y_test)))\n",
        "print('training set rmse:      ', np.sqrt(mean_squared_error(y_train, pred_train)))\n",
        "print('test set rmse:          ', np.sqrt(mean_squared_error(y_test, pred_test)))\n",
        "print('training set mape:      ', mean_absolute_percentage_error(y_train, pred_train))\n",
        "print('test set mape:          ', mean_absolute_percentage_error(y_test, pred_test))\n",
        "\n",
        "joblib.dump(best_KernelRidge_log, 'best_kr_log_0505.joblib')"
      ]
    },
    {
      "cell_type": "code",
      "execution_count": null,
      "metadata": {
        "id": "kHCzI6yCqpFI",
        "outputId": "ffe141fc-a555-4aee-92b2-fdb61c99beb4"
      },
      "outputs": [
        {
          "name": "stdout",
          "output_type": "stream",
          "text": [
            "training set r-squared:  0.8933392320316527\n",
            "test set r-squared:      0.5154397140143625\n"
          ]
        }
      ],
      "source": [
        "print('training set r-squared: ', best_KernelRidge_log.score(X_train, np.log(y_train)))\n",
        "print('test set r-squared:     ', best_KernelRidge_log.score(X_test, np.log(y_test)))"
      ]
    },
    {
      "cell_type": "markdown",
      "metadata": {
        "id": "8WDG-s6XqpFI"
      },
      "source": [
        "#### RandomizedSearchCV KNN"
      ]
    },
    {
      "cell_type": "code",
      "execution_count": null,
      "metadata": {
        "id": "fGCbRwZUqpFI"
      },
      "outputs": [],
      "source": [
        "from sklearn.neighbors import KNeighborsRegressor"
      ]
    },
    {
      "cell_type": "code",
      "execution_count": null,
      "metadata": {
        "scrolled": true,
        "id": "dFsHPY5oqpFI",
        "outputId": "ead32489-ccce-423b-d065-e478cd3e8e7f"
      },
      "outputs": [
        {
          "name": "stderr",
          "output_type": "stream",
          "text": [
            "/Users/chongqi/opt/anaconda3/lib/python3.9/site-packages/joblib/externals/loky/process_executor.py:702: UserWarning: A worker stopped while some jobs were given to the executor. This can be caused by a too short worker timeout or by a memory leak.\n",
            "  warnings.warn(\n"
          ]
        },
        {
          "name": "stdout",
          "output_type": "stream",
          "text": [
            "Best score:  0.7932777109919785\n",
            "training set r-squared:  -2.192623823572037\n",
            "test set r-squared:      -2.0837609553845398\n",
            "training set rmse:       172078.59633296877\n",
            "test set rmse:           197271.6451630098\n",
            "training set mape:       0.15162098360822165\n",
            "test set mape:           0.16337972428614167\n"
          ]
        },
        {
          "data": {
            "text/plain": [
              "['best_knn_log_0505.joblib']"
            ]
          },
          "execution_count": 29,
          "metadata": {},
          "output_type": "execute_result"
        }
      ],
      "source": [
        "# define the parameter grid for the randomized search\n",
        "param_grid_knn = {'n_neighbors': range(1, 31)}\n",
        "\n",
        "# initialize a knn model\n",
        "model_knn = KNeighborsRegressor()\n",
        "\n",
        "# initialize a randomized search with 5-fold cross-validation\n",
        "random_search_knn = RandomizedSearchCV(estimator=model_knn, param_distributions=param_grid_knn,\n",
        "                                   n_iter=10, cv=5, n_jobs=-1, random_state=42)\n",
        "\n",
        "# fit the randomized search to the data\n",
        "random_search_knn.fit(X_train, np.log(y_train))\n",
        "\n",
        "# print the best hyperparameters and best score\n",
        "# print(\"Best hyperparameters: \", random_search_knn.best_params_)\n",
        "print(\"Best score: \", random_search_knn.best_score_)\n",
        "\n",
        "best_knn_log = random_search_knn.best_estimator_\n",
        "\n",
        "pred_train = np.exp(best_knn_log.predict(X_train))\n",
        "pred_test = np.exp(best_knn_log.predict(X_test))\n",
        "print('training set r-squared: ', best_knn_log.score(X_train, np.log(y_train)))\n",
        "print('test set r-squared:     ', best_knn_log.score(X_test, np.log(y_test)))\n",
        "print('training set rmse:      ', np.sqrt(mean_squared_error(y_train, pred_train)))\n",
        "print('test set rmse:          ', np.sqrt(mean_squared_error(y_test, pred_test)))\n",
        "print('training set mape:      ', mean_absolute_percentage_error(y_train, pred_train))\n",
        "print('test set mape:          ', mean_absolute_percentage_error(y_test, pred_test))\n",
        "\n",
        "joblib.dump(best_knn_log, 'best_knn_log_0505.joblib')"
      ]
    },
    {
      "cell_type": "code",
      "execution_count": null,
      "metadata": {
        "id": "ifIjm_y5qpFJ",
        "outputId": "69bbd6f0-8791-49a2-990b-4dda9913243b"
      },
      "outputs": [
        {
          "name": "stdout",
          "output_type": "stream",
          "text": [
            "training set r-squared:  0.8435536253143543\n",
            "test set r-squared:      0.8169335202708206\n"
          ]
        }
      ],
      "source": [
        "print('training set r-squared: ', best_knn_log.score(X_train, np.log(y_train)))\n",
        "print('test set r-squared:     ', best_knn_log.score(X_test, np.log(y_test)))"
      ]
    },
    {
      "cell_type": "markdown",
      "metadata": {
        "id": "-u7j_IXfqpFJ"
      },
      "source": [
        "#### RandomizedSearchCV SVR"
      ]
    },
    {
      "cell_type": "code",
      "execution_count": null,
      "metadata": {
        "id": "ZvkdfuIcqpFJ"
      },
      "outputs": [],
      "source": [
        "from sklearn.svm import SVR"
      ]
    },
    {
      "cell_type": "code",
      "execution_count": null,
      "metadata": {
        "id": "L145cIj8qpFJ",
        "outputId": "2403e159-8042-4e05-8c3d-91d0b5dfcfc9"
      },
      "outputs": [
        {
          "name": "stdout",
          "output_type": "stream",
          "text": [
            "Best score:  0.8922618494995372\n",
            "training set r-squared:  0.9247470135646605\n",
            "test set r-squared:      0.9024839395704978\n",
            "training set rmse:       85921.355889983\n",
            "test set rmse:           131303.7090388297\n",
            "training set mape:       0.1071762330973566\n",
            "test set mape:           0.11947261438914024\n"
          ]
        },
        {
          "data": {
            "text/plain": [
              "['best_svr_log_0505.joblib']"
            ]
          },
          "execution_count": 33,
          "metadata": {},
          "output_type": "execute_result"
        }
      ],
      "source": [
        "# define the parameter grid for the randomized search\n",
        "param_grid_svr = {'C': np.logspace(-3, 3, 7),\n",
        "              'gamma': np.logspace(-3, 3, 7)}\n",
        "\n",
        "# initialize a svr model\n",
        "model_svr = SVR(kernel='rbf')\n",
        "\n",
        "# initialize a randomized search with 5-fold cross-validation\n",
        "random_search_svr = RandomizedSearchCV(estimator=model_svr, param_distributions=param_grid_svr,\n",
        "                                   n_iter=10, cv=5, n_jobs=-1, random_state=42)\n",
        "\n",
        "# fit the randomized search to the data\n",
        "random_search_svr.fit(X_train, np.log(y_train))\n",
        "\n",
        "# print the best hyperparameters and best score\n",
        "# print(\"Best hyperparameters: \", random_search_svr.best_params_)\n",
        "print(\"Best score: \", random_search_svr.best_score_)\n",
        "\n",
        "best_svr_log = random_search_svr.best_estimator_\n",
        "\n",
        "pred_train = np.exp(best_svr_log.predict(X_train))\n",
        "pred_test = np.exp(best_svr_log.predict(X_test))\n",
        "print('training set r-squared: ', best_svr_log.score(X_train, np.log(y_train)))\n",
        "print('test set r-squared:     ', best_svr_log.score(X_test, np.log(y_test)))\n",
        "print('training set rmse:      ', np.sqrt(mean_squared_error(y_train, pred_train)))\n",
        "print('test set rmse:          ', np.sqrt(mean_squared_error(y_test, pred_test)))\n",
        "print('training set mape:      ', mean_absolute_percentage_error(y_train, pred_train))\n",
        "print('test set mape:          ', mean_absolute_percentage_error(y_test, pred_test))\n",
        "\n",
        "joblib.dump(best_svr_log, 'best_svr_log_0505.joblib')"
      ]
    },
    {
      "cell_type": "code",
      "execution_count": null,
      "metadata": {
        "id": "WnHU1c4WqpFJ",
        "outputId": "1bbc6108-7f4a-4e83-b5db-3a3870d795b0"
      },
      "outputs": [
        {
          "name": "stdout",
          "output_type": "stream",
          "text": [
            "{'gamma': 0.1, 'C': 1000.0}\n"
          ]
        }
      ],
      "source": [
        "print(random_search_svr.best_params_)"
      ]
    },
    {
      "cell_type": "markdown",
      "metadata": {
        "id": "HQ7sWW-fqpFK"
      },
      "source": [
        "#### RandomizedSearchCV MLP"
      ]
    },
    {
      "cell_type": "code",
      "execution_count": null,
      "metadata": {
        "id": "OPrn0nKTqpFO"
      },
      "outputs": [],
      "source": [
        "from sklearn.neural_network import MLPRegressor\n",
        "from scipy.stats import reciprocal"
      ]
    },
    {
      "cell_type": "code",
      "execution_count": null,
      "metadata": {
        "id": "M38O6OOzqpFP",
        "outputId": "cbf64a19-6937-45b4-b7b3-01521b5812a9"
      },
      "outputs": [
        {
          "name": "stdout",
          "output_type": "stream",
          "text": [
            "Best score:  0.8848314758817685\n",
            "training set r-squared:  0.8836447419579355\n",
            "test set r-squared:      0.8878801470723188\n",
            "training set rmse:       125907.6980874654\n",
            "test set rmse:           130012.05710282196\n",
            "training set mape:       0.13298862223614344\n",
            "test set mape:           0.13003709103798688\n"
          ]
        }
      ],
      "source": [
        "# define the parameter grid for the randomized search\n",
        "param_grid_mlp = {\n",
        "    'hidden_layer_sizes': [(50,), (100,), (200,), (300,), (400,), (500,)],\n",
        "    'alpha': reciprocal(1e-4, 1e-2),\n",
        "    'learning_rate_init': reciprocal(1e-4, 1e-2),\n",
        "}\n",
        "\n",
        "# initialize a mlp model\n",
        "model_mlp = MLPRegressor(activation='relu', solver='adam', max_iter=500)\n",
        "\n",
        "# initialize a randomized search with 5-fold cross-validation\n",
        "random_search_mlp = RandomizedSearchCV(estimator=model_mlp, param_distributions=param_grid_mlp,\n",
        "                                   n_iter=10, cv=5, n_jobs=-1, random_state=42)\n",
        "\n",
        "# fit the randomized search to the data\n",
        "random_search_mlp.fit(X_train, np.log(y_train))\n",
        "\n",
        "print(\"Best score: \", random_search_mlp.best_score_)\n",
        "\n",
        "best_mlp_log = random_search_mlp.best_estimator_\n",
        "\n",
        "pred_train = np.exp(best_mlp_log.predict(X_train))\n",
        "pred_test = np.exp(best_mlp_log.predict(X_test))\n",
        "print('training set r-squared: ', best_mlp_log.score(X_train, np.log(y_train)))\n",
        "print('test set r-squared:     ', best_mlp_log.score(X_test, np.log(y_test)))\n",
        "print('training set rmse:      ', np.sqrt(mean_squared_error(y_train, pred_train)))\n",
        "print('test set rmse:          ', np.sqrt(mean_squared_error(y_test, pred_test)))\n",
        "print('training set mape:      ', mean_absolute_percentage_error(y_train, pred_train))\n",
        "print('test set mape:          ', mean_absolute_percentage_error(y_test, pred_test))\n",
        "\n"
      ]
    },
    {
      "cell_type": "code",
      "execution_count": null,
      "metadata": {
        "id": "ehb8fZYYqpFP",
        "outputId": "c14b398d-3fc2-4ff4-b8f4-375676fb362e"
      },
      "outputs": [
        {
          "name": "stdout",
          "output_type": "stream",
          "text": [
            "{'alpha': 0.00020511104188433973, 'hidden_layer_sizes': (200,), 'learning_rate_init': 0.000828891686688514}\n"
          ]
        }
      ],
      "source": [
        "print(random_search_mlp.best_params_)"
      ]
    },
    {
      "cell_type": "code",
      "execution_count": null,
      "metadata": {
        "id": "NC_lOGg6qpFP"
      },
      "outputs": [],
      "source": [
        "joblib.dump(best_mlp_log, 'best_mlp_log_0505.joblib')"
      ]
    },
    {
      "cell_type": "code",
      "execution_count": null,
      "metadata": {
        "id": "r3DJBly9qpFP"
      },
      "outputs": [],
      "source": [
        "best_models = [('knn', best_knn_log), ('svr', best_svr_log),\n",
        "               ('xgb', best_xgb_log), ('mlp', best_mlp_log)]\n"
      ]
    },
    {
      "cell_type": "code",
      "execution_count": null,
      "metadata": {
        "id": "hvLhNraMqpFP"
      },
      "outputs": [],
      "source": [
        "from sklearn.linear_model import Ridge\n",
        "from sklearn.ensemble import StackingRegressor"
      ]
    },
    {
      "cell_type": "code",
      "execution_count": null,
      "metadata": {
        "id": "F5ZtMbw3qpFP"
      },
      "outputs": [],
      "source": [
        "# define the StackingRegressor\n",
        "stack = StackingRegressor(\n",
        "    estimators=best_models,\n",
        "    final_estimator=Ridge(),\n",
        "    cv=5\n",
        ")"
      ]
    },
    {
      "cell_type": "code",
      "execution_count": null,
      "metadata": {
        "id": "WGCW-1y4qpFQ"
      },
      "outputs": [],
      "source": [
        "# define the parameter distributions for the randomized search\n",
        "param_distributions = {\n",
        "    'final_estimator__alpha': uniform(loc=0.0, scale=10.0),\n",
        "    'final_estimator__fit_intercept': [True, False]\n",
        "}"
      ]
    },
    {
      "cell_type": "code",
      "execution_count": null,
      "metadata": {
        "id": "-fJbpqvfqpFQ"
      },
      "outputs": [],
      "source": [
        "# perform RandomizedSearchCV for the StackingRegressor\n",
        "stack_search = RandomizedSearchCV(\n",
        "    estimator=stack,\n",
        "    param_distributions=param_distributions,\n",
        "    n_iter=10,\n",
        "    cv=5,\n",
        "    n_jobs=-1\n",
        ")\n"
      ]
    },
    {
      "cell_type": "code",
      "execution_count": null,
      "metadata": {
        "id": "UstofirZqpFQ",
        "outputId": "e6cbf201-f9cd-448f-971f-a5fa528ddfaa"
      },
      "outputs": [
        {
          "name": "stderr",
          "output_type": "stream",
          "text": [
            "/Users/chongqi/opt/anaconda3/lib/python3.9/site-packages/sklearn/neural_network/_multilayer_perceptron.py:692: ConvergenceWarning: Stochastic Optimizer: Maximum iterations (200) reached and the optimization hasn't converged yet.\n",
            "  warnings.warn(\n",
            "/Users/chongqi/opt/anaconda3/lib/python3.9/site-packages/sklearn/neural_network/_multilayer_perceptron.py:692: ConvergenceWarning: Stochastic Optimizer: Maximum iterations (200) reached and the optimization hasn't converged yet.\n",
            "  warnings.warn(\n",
            "/Users/chongqi/opt/anaconda3/lib/python3.9/site-packages/sklearn/neural_network/_multilayer_perceptron.py:692: ConvergenceWarning: Stochastic Optimizer: Maximum iterations (200) reached and the optimization hasn't converged yet.\n",
            "  warnings.warn(\n",
            "/Users/chongqi/opt/anaconda3/lib/python3.9/site-packages/sklearn/neural_network/_multilayer_perceptron.py:692: ConvergenceWarning: Stochastic Optimizer: Maximum iterations (200) reached and the optimization hasn't converged yet.\n",
            "  warnings.warn(\n",
            "/Users/chongqi/opt/anaconda3/lib/python3.9/site-packages/sklearn/neural_network/_multilayer_perceptron.py:692: ConvergenceWarning: Stochastic Optimizer: Maximum iterations (200) reached and the optimization hasn't converged yet.\n",
            "  warnings.warn(\n",
            "/Users/chongqi/opt/anaconda3/lib/python3.9/site-packages/sklearn/neural_network/_multilayer_perceptron.py:692: ConvergenceWarning: Stochastic Optimizer: Maximum iterations (200) reached and the optimization hasn't converged yet.\n",
            "  warnings.warn(\n",
            "/Users/chongqi/opt/anaconda3/lib/python3.9/site-packages/sklearn/neural_network/_multilayer_perceptron.py:692: ConvergenceWarning: Stochastic Optimizer: Maximum iterations (200) reached and the optimization hasn't converged yet.\n",
            "  warnings.warn(\n",
            "/Users/chongqi/opt/anaconda3/lib/python3.9/site-packages/sklearn/neural_network/_multilayer_perceptron.py:692: ConvergenceWarning: Stochastic Optimizer: Maximum iterations (200) reached and the optimization hasn't converged yet.\n",
            "  warnings.warn(\n",
            "/Users/chongqi/opt/anaconda3/lib/python3.9/site-packages/sklearn/neural_network/_multilayer_perceptron.py:692: ConvergenceWarning: Stochastic Optimizer: Maximum iterations (200) reached and the optimization hasn't converged yet.\n",
            "  warnings.warn(\n",
            "/Users/chongqi/opt/anaconda3/lib/python3.9/site-packages/sklearn/neural_network/_multilayer_perceptron.py:692: ConvergenceWarning: Stochastic Optimizer: Maximum iterations (200) reached and the optimization hasn't converged yet.\n",
            "  warnings.warn(\n",
            "/Users/chongqi/opt/anaconda3/lib/python3.9/site-packages/sklearn/neural_network/_multilayer_perceptron.py:692: ConvergenceWarning: Stochastic Optimizer: Maximum iterations (200) reached and the optimization hasn't converged yet.\n",
            "  warnings.warn(\n",
            "/Users/chongqi/opt/anaconda3/lib/python3.9/site-packages/sklearn/neural_network/_multilayer_perceptron.py:692: ConvergenceWarning: Stochastic Optimizer: Maximum iterations (200) reached and the optimization hasn't converged yet.\n",
            "  warnings.warn(\n",
            "/Users/chongqi/opt/anaconda3/lib/python3.9/site-packages/sklearn/neural_network/_multilayer_perceptron.py:692: ConvergenceWarning: Stochastic Optimizer: Maximum iterations (200) reached and the optimization hasn't converged yet.\n",
            "  warnings.warn(\n",
            "/Users/chongqi/opt/anaconda3/lib/python3.9/site-packages/sklearn/neural_network/_multilayer_perceptron.py:692: ConvergenceWarning: Stochastic Optimizer: Maximum iterations (200) reached and the optimization hasn't converged yet.\n",
            "  warnings.warn(\n",
            "/Users/chongqi/opt/anaconda3/lib/python3.9/site-packages/sklearn/neural_network/_multilayer_perceptron.py:692: ConvergenceWarning: Stochastic Optimizer: Maximum iterations (200) reached and the optimization hasn't converged yet.\n",
            "  warnings.warn(\n",
            "/Users/chongqi/opt/anaconda3/lib/python3.9/site-packages/sklearn/neural_network/_multilayer_perceptron.py:692: ConvergenceWarning: Stochastic Optimizer: Maximum iterations (200) reached and the optimization hasn't converged yet.\n",
            "  warnings.warn(\n",
            "/Users/chongqi/opt/anaconda3/lib/python3.9/site-packages/sklearn/neural_network/_multilayer_perceptron.py:692: ConvergenceWarning: Stochastic Optimizer: Maximum iterations (200) reached and the optimization hasn't converged yet.\n",
            "  warnings.warn(\n",
            "/Users/chongqi/opt/anaconda3/lib/python3.9/site-packages/sklearn/neural_network/_multilayer_perceptron.py:692: ConvergenceWarning: Stochastic Optimizer: Maximum iterations (200) reached and the optimization hasn't converged yet.\n",
            "  warnings.warn(\n",
            "/Users/chongqi/opt/anaconda3/lib/python3.9/site-packages/sklearn/neural_network/_multilayer_perceptron.py:692: ConvergenceWarning: Stochastic Optimizer: Maximum iterations (200) reached and the optimization hasn't converged yet.\n",
            "  warnings.warn(\n",
            "/Users/chongqi/opt/anaconda3/lib/python3.9/site-packages/sklearn/neural_network/_multilayer_perceptron.py:692: ConvergenceWarning: Stochastic Optimizer: Maximum iterations (200) reached and the optimization hasn't converged yet.\n",
            "  warnings.warn(\n",
            "/Users/chongqi/opt/anaconda3/lib/python3.9/site-packages/sklearn/neural_network/_multilayer_perceptron.py:692: ConvergenceWarning: Stochastic Optimizer: Maximum iterations (200) reached and the optimization hasn't converged yet.\n",
            "  warnings.warn(\n",
            "/Users/chongqi/opt/anaconda3/lib/python3.9/site-packages/sklearn/neural_network/_multilayer_perceptron.py:692: ConvergenceWarning: Stochastic Optimizer: Maximum iterations (200) reached and the optimization hasn't converged yet.\n",
            "  warnings.warn(\n",
            "/Users/chongqi/opt/anaconda3/lib/python3.9/site-packages/sklearn/neural_network/_multilayer_perceptron.py:692: ConvergenceWarning: Stochastic Optimizer: Maximum iterations (200) reached and the optimization hasn't converged yet.\n",
            "  warnings.warn(\n",
            "/Users/chongqi/opt/anaconda3/lib/python3.9/site-packages/sklearn/neural_network/_multilayer_perceptron.py:692: ConvergenceWarning: Stochastic Optimizer: Maximum iterations (200) reached and the optimization hasn't converged yet.\n",
            "  warnings.warn(\n",
            "/Users/chongqi/opt/anaconda3/lib/python3.9/site-packages/sklearn/neural_network/_multilayer_perceptron.py:692: ConvergenceWarning: Stochastic Optimizer: Maximum iterations (200) reached and the optimization hasn't converged yet.\n",
            "  warnings.warn(\n",
            "/Users/chongqi/opt/anaconda3/lib/python3.9/site-packages/sklearn/neural_network/_multilayer_perceptron.py:692: ConvergenceWarning: Stochastic Optimizer: Maximum iterations (200) reached and the optimization hasn't converged yet.\n",
            "  warnings.warn(\n",
            "/Users/chongqi/opt/anaconda3/lib/python3.9/site-packages/sklearn/neural_network/_multilayer_perceptron.py:692: ConvergenceWarning: Stochastic Optimizer: Maximum iterations (200) reached and the optimization hasn't converged yet.\n",
            "  warnings.warn(\n",
            "/Users/chongqi/opt/anaconda3/lib/python3.9/site-packages/sklearn/neural_network/_multilayer_perceptron.py:692: ConvergenceWarning: Stochastic Optimizer: Maximum iterations (200) reached and the optimization hasn't converged yet.\n",
            "  warnings.warn(\n",
            "/Users/chongqi/opt/anaconda3/lib/python3.9/site-packages/sklearn/neural_network/_multilayer_perceptron.py:692: ConvergenceWarning: Stochastic Optimizer: Maximum iterations (200) reached and the optimization hasn't converged yet.\n",
            "  warnings.warn(\n",
            "/Users/chongqi/opt/anaconda3/lib/python3.9/site-packages/sklearn/neural_network/_multilayer_perceptron.py:692: ConvergenceWarning: Stochastic Optimizer: Maximum iterations (200) reached and the optimization hasn't converged yet.\n",
            "  warnings.warn(\n",
            "/Users/chongqi/opt/anaconda3/lib/python3.9/site-packages/sklearn/neural_network/_multilayer_perceptron.py:692: ConvergenceWarning: Stochastic Optimizer: Maximum iterations (200) reached and the optimization hasn't converged yet.\n",
            "  warnings.warn(\n",
            "/Users/chongqi/opt/anaconda3/lib/python3.9/site-packages/sklearn/neural_network/_multilayer_perceptron.py:692: ConvergenceWarning: Stochastic Optimizer: Maximum iterations (200) reached and the optimization hasn't converged yet.\n",
            "  warnings.warn(\n",
            "/Users/chongqi/opt/anaconda3/lib/python3.9/site-packages/sklearn/neural_network/_multilayer_perceptron.py:692: ConvergenceWarning: Stochastic Optimizer: Maximum iterations (200) reached and the optimization hasn't converged yet.\n",
            "  warnings.warn(\n",
            "/Users/chongqi/opt/anaconda3/lib/python3.9/site-packages/sklearn/neural_network/_multilayer_perceptron.py:692: ConvergenceWarning: Stochastic Optimizer: Maximum iterations (200) reached and the optimization hasn't converged yet.\n",
            "  warnings.warn(\n"
          ]
        },
        {
          "name": "stderr",
          "output_type": "stream",
          "text": [
            "/Users/chongqi/opt/anaconda3/lib/python3.9/site-packages/sklearn/neural_network/_multilayer_perceptron.py:692: ConvergenceWarning: Stochastic Optimizer: Maximum iterations (200) reached and the optimization hasn't converged yet.\n",
            "  warnings.warn(\n",
            "/Users/chongqi/opt/anaconda3/lib/python3.9/site-packages/sklearn/neural_network/_multilayer_perceptron.py:692: ConvergenceWarning: Stochastic Optimizer: Maximum iterations (200) reached and the optimization hasn't converged yet.\n",
            "  warnings.warn(\n",
            "/Users/chongqi/opt/anaconda3/lib/python3.9/site-packages/sklearn/neural_network/_multilayer_perceptron.py:692: ConvergenceWarning: Stochastic Optimizer: Maximum iterations (200) reached and the optimization hasn't converged yet.\n",
            "  warnings.warn(\n",
            "/Users/chongqi/opt/anaconda3/lib/python3.9/site-packages/sklearn/neural_network/_multilayer_perceptron.py:692: ConvergenceWarning: Stochastic Optimizer: Maximum iterations (200) reached and the optimization hasn't converged yet.\n",
            "  warnings.warn(\n",
            "/Users/chongqi/opt/anaconda3/lib/python3.9/site-packages/sklearn/neural_network/_multilayer_perceptron.py:692: ConvergenceWarning: Stochastic Optimizer: Maximum iterations (200) reached and the optimization hasn't converged yet.\n",
            "  warnings.warn(\n",
            "/Users/chongqi/opt/anaconda3/lib/python3.9/site-packages/sklearn/neural_network/_multilayer_perceptron.py:692: ConvergenceWarning: Stochastic Optimizer: Maximum iterations (200) reached and the optimization hasn't converged yet.\n",
            "  warnings.warn(\n",
            "/Users/chongqi/opt/anaconda3/lib/python3.9/site-packages/sklearn/neural_network/_multilayer_perceptron.py:692: ConvergenceWarning: Stochastic Optimizer: Maximum iterations (200) reached and the optimization hasn't converged yet.\n",
            "  warnings.warn(\n",
            "/Users/chongqi/opt/anaconda3/lib/python3.9/site-packages/sklearn/neural_network/_multilayer_perceptron.py:692: ConvergenceWarning: Stochastic Optimizer: Maximum iterations (200) reached and the optimization hasn't converged yet.\n",
            "  warnings.warn(\n",
            "/Users/chongqi/opt/anaconda3/lib/python3.9/site-packages/sklearn/neural_network/_multilayer_perceptron.py:692: ConvergenceWarning: Stochastic Optimizer: Maximum iterations (200) reached and the optimization hasn't converged yet.\n",
            "  warnings.warn(\n",
            "/Users/chongqi/opt/anaconda3/lib/python3.9/site-packages/sklearn/neural_network/_multilayer_perceptron.py:692: ConvergenceWarning: Stochastic Optimizer: Maximum iterations (200) reached and the optimization hasn't converged yet.\n",
            "  warnings.warn(\n",
            "/Users/chongqi/opt/anaconda3/lib/python3.9/site-packages/sklearn/neural_network/_multilayer_perceptron.py:692: ConvergenceWarning: Stochastic Optimizer: Maximum iterations (200) reached and the optimization hasn't converged yet.\n",
            "  warnings.warn(\n",
            "/Users/chongqi/opt/anaconda3/lib/python3.9/site-packages/sklearn/neural_network/_multilayer_perceptron.py:692: ConvergenceWarning: Stochastic Optimizer: Maximum iterations (200) reached and the optimization hasn't converged yet.\n",
            "  warnings.warn(\n",
            "/Users/chongqi/opt/anaconda3/lib/python3.9/site-packages/sklearn/neural_network/_multilayer_perceptron.py:692: ConvergenceWarning: Stochastic Optimizer: Maximum iterations (200) reached and the optimization hasn't converged yet.\n",
            "  warnings.warn(\n",
            "/Users/chongqi/opt/anaconda3/lib/python3.9/site-packages/sklearn/neural_network/_multilayer_perceptron.py:692: ConvergenceWarning: Stochastic Optimizer: Maximum iterations (200) reached and the optimization hasn't converged yet.\n",
            "  warnings.warn(\n",
            "/Users/chongqi/opt/anaconda3/lib/python3.9/site-packages/sklearn/neural_network/_multilayer_perceptron.py:692: ConvergenceWarning: Stochastic Optimizer: Maximum iterations (200) reached and the optimization hasn't converged yet.\n",
            "  warnings.warn(\n",
            "/Users/chongqi/opt/anaconda3/lib/python3.9/site-packages/sklearn/neural_network/_multilayer_perceptron.py:692: ConvergenceWarning: Stochastic Optimizer: Maximum iterations (200) reached and the optimization hasn't converged yet.\n",
            "  warnings.warn(\n",
            "/Users/chongqi/opt/anaconda3/lib/python3.9/site-packages/sklearn/neural_network/_multilayer_perceptron.py:692: ConvergenceWarning: Stochastic Optimizer: Maximum iterations (200) reached and the optimization hasn't converged yet.\n",
            "  warnings.warn(\n",
            "/Users/chongqi/opt/anaconda3/lib/python3.9/site-packages/sklearn/neural_network/_multilayer_perceptron.py:692: ConvergenceWarning: Stochastic Optimizer: Maximum iterations (200) reached and the optimization hasn't converged yet.\n",
            "  warnings.warn(\n",
            "/Users/chongqi/opt/anaconda3/lib/python3.9/site-packages/sklearn/neural_network/_multilayer_perceptron.py:692: ConvergenceWarning: Stochastic Optimizer: Maximum iterations (200) reached and the optimization hasn't converged yet.\n",
            "  warnings.warn(\n",
            "/Users/chongqi/opt/anaconda3/lib/python3.9/site-packages/sklearn/neural_network/_multilayer_perceptron.py:692: ConvergenceWarning: Stochastic Optimizer: Maximum iterations (200) reached and the optimization hasn't converged yet.\n",
            "  warnings.warn(\n",
            "/Users/chongqi/opt/anaconda3/lib/python3.9/site-packages/sklearn/neural_network/_multilayer_perceptron.py:692: ConvergenceWarning: Stochastic Optimizer: Maximum iterations (200) reached and the optimization hasn't converged yet.\n",
            "  warnings.warn(\n",
            "/Users/chongqi/opt/anaconda3/lib/python3.9/site-packages/sklearn/neural_network/_multilayer_perceptron.py:692: ConvergenceWarning: Stochastic Optimizer: Maximum iterations (200) reached and the optimization hasn't converged yet.\n",
            "  warnings.warn(\n",
            "/Users/chongqi/opt/anaconda3/lib/python3.9/site-packages/sklearn/neural_network/_multilayer_perceptron.py:692: ConvergenceWarning: Stochastic Optimizer: Maximum iterations (200) reached and the optimization hasn't converged yet.\n",
            "  warnings.warn(\n",
            "/Users/chongqi/opt/anaconda3/lib/python3.9/site-packages/sklearn/neural_network/_multilayer_perceptron.py:692: ConvergenceWarning: Stochastic Optimizer: Maximum iterations (200) reached and the optimization hasn't converged yet.\n",
            "  warnings.warn(\n",
            "/Users/chongqi/opt/anaconda3/lib/python3.9/site-packages/sklearn/neural_network/_multilayer_perceptron.py:692: ConvergenceWarning: Stochastic Optimizer: Maximum iterations (200) reached and the optimization hasn't converged yet.\n",
            "  warnings.warn(\n",
            "/Users/chongqi/opt/anaconda3/lib/python3.9/site-packages/sklearn/neural_network/_multilayer_perceptron.py:692: ConvergenceWarning: Stochastic Optimizer: Maximum iterations (200) reached and the optimization hasn't converged yet.\n",
            "  warnings.warn(\n",
            "/Users/chongqi/opt/anaconda3/lib/python3.9/site-packages/sklearn/neural_network/_multilayer_perceptron.py:692: ConvergenceWarning: Stochastic Optimizer: Maximum iterations (200) reached and the optimization hasn't converged yet.\n",
            "  warnings.warn(\n",
            "/Users/chongqi/opt/anaconda3/lib/python3.9/site-packages/sklearn/neural_network/_multilayer_perceptron.py:692: ConvergenceWarning: Stochastic Optimizer: Maximum iterations (200) reached and the optimization hasn't converged yet.\n",
            "  warnings.warn(\n",
            "/Users/chongqi/opt/anaconda3/lib/python3.9/site-packages/sklearn/neural_network/_multilayer_perceptron.py:692: ConvergenceWarning: Stochastic Optimizer: Maximum iterations (200) reached and the optimization hasn't converged yet.\n",
            "  warnings.warn(\n",
            "/Users/chongqi/opt/anaconda3/lib/python3.9/site-packages/sklearn/neural_network/_multilayer_perceptron.py:692: ConvergenceWarning: Stochastic Optimizer: Maximum iterations (200) reached and the optimization hasn't converged yet.\n",
            "  warnings.warn(\n",
            "/Users/chongqi/opt/anaconda3/lib/python3.9/site-packages/sklearn/neural_network/_multilayer_perceptron.py:692: ConvergenceWarning: Stochastic Optimizer: Maximum iterations (200) reached and the optimization hasn't converged yet.\n",
            "  warnings.warn(\n",
            "/Users/chongqi/opt/anaconda3/lib/python3.9/site-packages/sklearn/neural_network/_multilayer_perceptron.py:692: ConvergenceWarning: Stochastic Optimizer: Maximum iterations (200) reached and the optimization hasn't converged yet.\n",
            "  warnings.warn(\n",
            "/Users/chongqi/opt/anaconda3/lib/python3.9/site-packages/sklearn/neural_network/_multilayer_perceptron.py:692: ConvergenceWarning: Stochastic Optimizer: Maximum iterations (200) reached and the optimization hasn't converged yet.\n",
            "  warnings.warn(\n",
            "/Users/chongqi/opt/anaconda3/lib/python3.9/site-packages/sklearn/neural_network/_multilayer_perceptron.py:692: ConvergenceWarning: Stochastic Optimizer: Maximum iterations (200) reached and the optimization hasn't converged yet.\n",
            "  warnings.warn(\n"
          ]
        },
        {
          "name": "stderr",
          "output_type": "stream",
          "text": [
            "/Users/chongqi/opt/anaconda3/lib/python3.9/site-packages/sklearn/neural_network/_multilayer_perceptron.py:692: ConvergenceWarning: Stochastic Optimizer: Maximum iterations (200) reached and the optimization hasn't converged yet.\n",
            "  warnings.warn(\n",
            "/Users/chongqi/opt/anaconda3/lib/python3.9/site-packages/sklearn/neural_network/_multilayer_perceptron.py:692: ConvergenceWarning: Stochastic Optimizer: Maximum iterations (200) reached and the optimization hasn't converged yet.\n",
            "  warnings.warn(\n",
            "/Users/chongqi/opt/anaconda3/lib/python3.9/site-packages/sklearn/neural_network/_multilayer_perceptron.py:692: ConvergenceWarning: Stochastic Optimizer: Maximum iterations (200) reached and the optimization hasn't converged yet.\n",
            "  warnings.warn(\n",
            "/Users/chongqi/opt/anaconda3/lib/python3.9/site-packages/sklearn/neural_network/_multilayer_perceptron.py:692: ConvergenceWarning: Stochastic Optimizer: Maximum iterations (200) reached and the optimization hasn't converged yet.\n",
            "  warnings.warn(\n",
            "/Users/chongqi/opt/anaconda3/lib/python3.9/site-packages/sklearn/neural_network/_multilayer_perceptron.py:692: ConvergenceWarning: Stochastic Optimizer: Maximum iterations (200) reached and the optimization hasn't converged yet.\n",
            "  warnings.warn(\n",
            "/Users/chongqi/opt/anaconda3/lib/python3.9/site-packages/sklearn/neural_network/_multilayer_perceptron.py:692: ConvergenceWarning: Stochastic Optimizer: Maximum iterations (200) reached and the optimization hasn't converged yet.\n",
            "  warnings.warn(\n",
            "/Users/chongqi/opt/anaconda3/lib/python3.9/site-packages/sklearn/neural_network/_multilayer_perceptron.py:692: ConvergenceWarning: Stochastic Optimizer: Maximum iterations (200) reached and the optimization hasn't converged yet.\n",
            "  warnings.warn(\n",
            "/Users/chongqi/opt/anaconda3/lib/python3.9/site-packages/sklearn/neural_network/_multilayer_perceptron.py:692: ConvergenceWarning: Stochastic Optimizer: Maximum iterations (200) reached and the optimization hasn't converged yet.\n",
            "  warnings.warn(\n",
            "/Users/chongqi/opt/anaconda3/lib/python3.9/site-packages/sklearn/neural_network/_multilayer_perceptron.py:692: ConvergenceWarning: Stochastic Optimizer: Maximum iterations (200) reached and the optimization hasn't converged yet.\n",
            "  warnings.warn(\n",
            "/Users/chongqi/opt/anaconda3/lib/python3.9/site-packages/sklearn/neural_network/_multilayer_perceptron.py:692: ConvergenceWarning: Stochastic Optimizer: Maximum iterations (200) reached and the optimization hasn't converged yet.\n",
            "  warnings.warn(\n",
            "/Users/chongqi/opt/anaconda3/lib/python3.9/site-packages/sklearn/neural_network/_multilayer_perceptron.py:692: ConvergenceWarning: Stochastic Optimizer: Maximum iterations (200) reached and the optimization hasn't converged yet.\n",
            "  warnings.warn(\n",
            "/Users/chongqi/opt/anaconda3/lib/python3.9/site-packages/sklearn/neural_network/_multilayer_perceptron.py:692: ConvergenceWarning: Stochastic Optimizer: Maximum iterations (200) reached and the optimization hasn't converged yet.\n",
            "  warnings.warn(\n",
            "/Users/chongqi/opt/anaconda3/lib/python3.9/site-packages/sklearn/neural_network/_multilayer_perceptron.py:692: ConvergenceWarning: Stochastic Optimizer: Maximum iterations (200) reached and the optimization hasn't converged yet.\n",
            "  warnings.warn(\n",
            "/Users/chongqi/opt/anaconda3/lib/python3.9/site-packages/sklearn/neural_network/_multilayer_perceptron.py:692: ConvergenceWarning: Stochastic Optimizer: Maximum iterations (200) reached and the optimization hasn't converged yet.\n",
            "  warnings.warn(\n",
            "/Users/chongqi/opt/anaconda3/lib/python3.9/site-packages/sklearn/neural_network/_multilayer_perceptron.py:692: ConvergenceWarning: Stochastic Optimizer: Maximum iterations (200) reached and the optimization hasn't converged yet.\n",
            "  warnings.warn(\n",
            "/Users/chongqi/opt/anaconda3/lib/python3.9/site-packages/sklearn/neural_network/_multilayer_perceptron.py:692: ConvergenceWarning: Stochastic Optimizer: Maximum iterations (200) reached and the optimization hasn't converged yet.\n",
            "  warnings.warn(\n",
            "/Users/chongqi/opt/anaconda3/lib/python3.9/site-packages/sklearn/neural_network/_multilayer_perceptron.py:692: ConvergenceWarning: Stochastic Optimizer: Maximum iterations (200) reached and the optimization hasn't converged yet.\n",
            "  warnings.warn(\n",
            "/Users/chongqi/opt/anaconda3/lib/python3.9/site-packages/sklearn/neural_network/_multilayer_perceptron.py:692: ConvergenceWarning: Stochastic Optimizer: Maximum iterations (200) reached and the optimization hasn't converged yet.\n",
            "  warnings.warn(\n",
            "/Users/chongqi/opt/anaconda3/lib/python3.9/site-packages/sklearn/neural_network/_multilayer_perceptron.py:692: ConvergenceWarning: Stochastic Optimizer: Maximum iterations (200) reached and the optimization hasn't converged yet.\n",
            "  warnings.warn(\n",
            "/Users/chongqi/opt/anaconda3/lib/python3.9/site-packages/sklearn/neural_network/_multilayer_perceptron.py:692: ConvergenceWarning: Stochastic Optimizer: Maximum iterations (200) reached and the optimization hasn't converged yet.\n",
            "  warnings.warn(\n",
            "/Users/chongqi/opt/anaconda3/lib/python3.9/site-packages/sklearn/neural_network/_multilayer_perceptron.py:692: ConvergenceWarning: Stochastic Optimizer: Maximum iterations (200) reached and the optimization hasn't converged yet.\n",
            "  warnings.warn(\n",
            "/Users/chongqi/opt/anaconda3/lib/python3.9/site-packages/sklearn/neural_network/_multilayer_perceptron.py:692: ConvergenceWarning: Stochastic Optimizer: Maximum iterations (200) reached and the optimization hasn't converged yet.\n",
            "  warnings.warn(\n",
            "/Users/chongqi/opt/anaconda3/lib/python3.9/site-packages/sklearn/neural_network/_multilayer_perceptron.py:692: ConvergenceWarning: Stochastic Optimizer: Maximum iterations (200) reached and the optimization hasn't converged yet.\n",
            "  warnings.warn(\n",
            "/Users/chongqi/opt/anaconda3/lib/python3.9/site-packages/sklearn/neural_network/_multilayer_perceptron.py:692: ConvergenceWarning: Stochastic Optimizer: Maximum iterations (200) reached and the optimization hasn't converged yet.\n",
            "  warnings.warn(\n",
            "/Users/chongqi/opt/anaconda3/lib/python3.9/site-packages/sklearn/neural_network/_multilayer_perceptron.py:692: ConvergenceWarning: Stochastic Optimizer: Maximum iterations (200) reached and the optimization hasn't converged yet.\n",
            "  warnings.warn(\n",
            "/Users/chongqi/opt/anaconda3/lib/python3.9/site-packages/sklearn/neural_network/_multilayer_perceptron.py:692: ConvergenceWarning: Stochastic Optimizer: Maximum iterations (200) reached and the optimization hasn't converged yet.\n",
            "  warnings.warn(\n",
            "/Users/chongqi/opt/anaconda3/lib/python3.9/site-packages/sklearn/neural_network/_multilayer_perceptron.py:692: ConvergenceWarning: Stochastic Optimizer: Maximum iterations (200) reached and the optimization hasn't converged yet.\n",
            "  warnings.warn(\n",
            "/Users/chongqi/opt/anaconda3/lib/python3.9/site-packages/sklearn/neural_network/_multilayer_perceptron.py:692: ConvergenceWarning: Stochastic Optimizer: Maximum iterations (200) reached and the optimization hasn't converged yet.\n",
            "  warnings.warn(\n"
          ]
        },
        {
          "data": {
            "text/plain": [
              "RandomizedSearchCV(cv=5,\n",
              "                   estimator=StackingRegressor(cv=5,\n",
              "                                               estimators=[('knn',\n",
              "                                                            KNeighborsRegressor(n_neighbors=9)),\n",
              "                                                           ('svr',\n",
              "                                                            SVR(C=1000.0,\n",
              "                                                                gamma=0.1)),\n",
              "                                                           ('xgb',\n",
              "                                                            XGBRegressor(base_score=0.5,\n",
              "                                                                         booster='gbtree',\n",
              "                                                                         callbacks=None,\n",
              "                                                                         colsample_bylevel=1,\n",
              "                                                                         colsample_bynode=1,\n",
              "                                                                         colsample_bytree=0.5,\n",
              "                                                                         early_stopping_rounds=None,\n",
              "                                                                         enable_categorical=False,\n",
              "                                                                         eval_metric=None,\n",
              "                                                                         feature_ty...\n",
              "                                                                         predictor='auto',\n",
              "                                                                         random_state=0, ...)),\n",
              "                                                           ('mlp',\n",
              "                                                            MLPRegressor(alpha=0.0005611516415334504,\n",
              "                                                                         hidden_layer_sizes=(400,),\n",
              "                                                                         learning_rate_init=0.0002327392228062871))],\n",
              "                                               final_estimator=Ridge()),\n",
              "                   n_jobs=-1,\n",
              "                   param_distributions={'final_estimator__alpha': <scipy.stats._distn_infrastructure.rv_continuous_frozen object at 0x7fa0e81bc0a0>,\n",
              "                                        'final_estimator__fit_intercept': [True,\n",
              "                                                                           False]})"
            ]
          },
          "execution_count": 41,
          "metadata": {},
          "output_type": "execute_result"
        }
      ],
      "source": [
        "# fit the StackingRegressor to the data\n",
        "stack_search.fit(X_train, np.log(y_train))"
      ]
    },
    {
      "cell_type": "code",
      "execution_count": null,
      "metadata": {
        "id": "FO21oOlUqpFQ"
      },
      "outputs": [],
      "source": [
        "# get the best StackingRegressor\n",
        "best_stack = stack_search.best_estimator_"
      ]
    },
    {
      "cell_type": "code",
      "execution_count": null,
      "metadata": {
        "id": "jvE1zG-1qpFQ",
        "outputId": "1d6f5439-3713-464e-d143-4e4849b7a20f"
      },
      "outputs": [
        {
          "name": "stdout",
          "output_type": "stream",
          "text": [
            "training set r-squared:  0.9481188577013246\n",
            "test set r-squared:      0.918874459100527\n",
            "training set rmse:       72450.97793478268\n",
            "test set rmse:           117162.33131669447\n",
            "training set mape:       0.0872553418310514\n",
            "test set mape:           0.10764618386715775\n"
          ]
        }
      ],
      "source": [
        "pred_train = np.exp(best_stack.predict(X_train))\n",
        "pred_test = np.exp(best_stack.predict(X_test))\n",
        "print('training set r-squared: ', best_stack.score(X_train, np.log(y_train)))\n",
        "print('test set r-squared:     ', best_stack.score(X_test, np.log(y_test)))\n",
        "print('training set rmse:      ', np.sqrt(mean_squared_error(y_train, pred_train)))\n",
        "print('test set rmse:          ', np.sqrt(mean_squared_error(y_test, pred_test)))\n",
        "print('training set mape:      ', mean_absolute_percentage_error(y_train, pred_train))\n",
        "print('test set mape:          ', mean_absolute_percentage_error(y_test, pred_test))"
      ]
    },
    {
      "cell_type": "code",
      "execution_count": null,
      "metadata": {
        "id": "Mpc01YTnqpFR"
      },
      "outputs": [],
      "source": [
        "joblib.dump(best_stack, 'best_stack_0505.joblib')"
      ]
    },
    {
      "cell_type": "code",
      "execution_count": null,
      "metadata": {
        "id": "AueXMijAqpFR"
      },
      "outputs": [],
      "source": []
    },
    {
      "cell_type": "code",
      "execution_count": null,
      "metadata": {
        "id": "mDnwU40QqpFR"
      },
      "outputs": [],
      "source": []
    }
  ],
  "metadata": {
    "kernelspec": {
      "display_name": "Python 3 (ipykernel)",
      "language": "python",
      "name": "python3"
    },
    "language_info": {
      "codemirror_mode": {
        "name": "ipython",
        "version": 3
      },
      "file_extension": ".py",
      "mimetype": "text/x-python",
      "name": "python",
      "nbconvert_exporter": "python",
      "pygments_lexer": "ipython3",
      "version": "3.9.13"
    },
    "colab": {
      "provenance": []
    }
  },
  "nbformat": 4,
  "nbformat_minor": 0
}