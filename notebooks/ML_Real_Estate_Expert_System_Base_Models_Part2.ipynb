{
  "cells": [
    {
      "cell_type": "code",
      "execution_count": null,
      "metadata": {
        "id": "1hxD_q5pqa8s"
      },
      "outputs": [],
      "source": [
        "import joblib"
      ]
    },
    {
      "cell_type": "code",
      "execution_count": null,
      "metadata": {
        "id": "SuUHN9Wmqa8t"
      },
      "outputs": [],
      "source": [
        "import numpy as np\n",
        "import pandas as pd\n",
        "from sklearn.preprocessing import MinMaxScaler\n",
        "from sklearn.model_selection import GridSearchCV, RandomizedSearchCV\n",
        "from sklearn.model_selection import train_test_split\n",
        "from sklearn.metrics import r2_score, mean_squared_error, mean_absolute_percentage_error\n",
        "from sklearn.ensemble import RandomForestRegressor\n",
        "from xgboost import XGBRegressor\n",
        "from sklearn.tree import DecisionTreeRegressor"
      ]
    },
    {
      "cell_type": "code",
      "execution_count": null,
      "metadata": {
        "id": "BAhULpcZqa8t"
      },
      "outputs": [],
      "source": [
        "df = pd.read_csv('data3_0505.csv', index_col=0)"
      ]
    },
    {
      "cell_type": "code",
      "execution_count": null,
      "metadata": {
        "id": "SshEprVEqa8u"
      },
      "outputs": [],
      "source": [
        "X=df.drop(['price'], axis=1)\n",
        "y = df['price']"
      ]
    },
    {
      "cell_type": "markdown",
      "metadata": {
        "id": "XAN4Wrxeqa8u"
      },
      "source": [
        "### Training/Test Set Split and MinMaxScaler"
      ]
    },
    {
      "cell_type": "code",
      "execution_count": null,
      "metadata": {
        "id": "7MP8KOTxqa8v"
      },
      "outputs": [],
      "source": [
        "X_train, X_test, y_train, y_test = train_test_split(X, y, test_size=0.25, random_state=7633)"
      ]
    },
    {
      "cell_type": "code",
      "execution_count": null,
      "metadata": {
        "id": "IfCbmkTtqa8v",
        "outputId": "25c7acdf-1f2b-4ec8-b350-6a1f2fd29c04"
      },
      "outputs": [
        {
          "data": {
            "text/html": [
              "<style>#sk-container-id-1 {color: black;background-color: white;}#sk-container-id-1 pre{padding: 0;}#sk-container-id-1 div.sk-toggleable {background-color: white;}#sk-container-id-1 label.sk-toggleable__label {cursor: pointer;display: block;width: 100%;margin-bottom: 0;padding: 0.3em;box-sizing: border-box;text-align: center;}#sk-container-id-1 label.sk-toggleable__label-arrow:before {content: \"▸\";float: left;margin-right: 0.25em;color: #696969;}#sk-container-id-1 label.sk-toggleable__label-arrow:hover:before {color: black;}#sk-container-id-1 div.sk-estimator:hover label.sk-toggleable__label-arrow:before {color: black;}#sk-container-id-1 div.sk-toggleable__content {max-height: 0;max-width: 0;overflow: hidden;text-align: left;background-color: #f0f8ff;}#sk-container-id-1 div.sk-toggleable__content pre {margin: 0.2em;color: black;border-radius: 0.25em;background-color: #f0f8ff;}#sk-container-id-1 input.sk-toggleable__control:checked~div.sk-toggleable__content {max-height: 200px;max-width: 100%;overflow: auto;}#sk-container-id-1 input.sk-toggleable__control:checked~label.sk-toggleable__label-arrow:before {content: \"▾\";}#sk-container-id-1 div.sk-estimator input.sk-toggleable__control:checked~label.sk-toggleable__label {background-color: #d4ebff;}#sk-container-id-1 div.sk-label input.sk-toggleable__control:checked~label.sk-toggleable__label {background-color: #d4ebff;}#sk-container-id-1 input.sk-hidden--visually {border: 0;clip: rect(1px 1px 1px 1px);clip: rect(1px, 1px, 1px, 1px);height: 1px;margin: -1px;overflow: hidden;padding: 0;position: absolute;width: 1px;}#sk-container-id-1 div.sk-estimator {font-family: monospace;background-color: #f0f8ff;border: 1px dotted black;border-radius: 0.25em;box-sizing: border-box;margin-bottom: 0.5em;}#sk-container-id-1 div.sk-estimator:hover {background-color: #d4ebff;}#sk-container-id-1 div.sk-parallel-item::after {content: \"\";width: 100%;border-bottom: 1px solid gray;flex-grow: 1;}#sk-container-id-1 div.sk-label:hover label.sk-toggleable__label {background-color: #d4ebff;}#sk-container-id-1 div.sk-serial::before {content: \"\";position: absolute;border-left: 1px solid gray;box-sizing: border-box;top: 0;bottom: 0;left: 50%;z-index: 0;}#sk-container-id-1 div.sk-serial {display: flex;flex-direction: column;align-items: center;background-color: white;padding-right: 0.2em;padding-left: 0.2em;position: relative;}#sk-container-id-1 div.sk-item {position: relative;z-index: 1;}#sk-container-id-1 div.sk-parallel {display: flex;align-items: stretch;justify-content: center;background-color: white;position: relative;}#sk-container-id-1 div.sk-item::before, #sk-container-id-1 div.sk-parallel-item::before {content: \"\";position: absolute;border-left: 1px solid gray;box-sizing: border-box;top: 0;bottom: 0;left: 50%;z-index: -1;}#sk-container-id-1 div.sk-parallel-item {display: flex;flex-direction: column;z-index: 1;position: relative;background-color: white;}#sk-container-id-1 div.sk-parallel-item:first-child::after {align-self: flex-end;width: 50%;}#sk-container-id-1 div.sk-parallel-item:last-child::after {align-self: flex-start;width: 50%;}#sk-container-id-1 div.sk-parallel-item:only-child::after {width: 0;}#sk-container-id-1 div.sk-dashed-wrapped {border: 1px dashed gray;margin: 0 0.4em 0.5em 0.4em;box-sizing: border-box;padding-bottom: 0.4em;background-color: white;}#sk-container-id-1 div.sk-label label {font-family: monospace;font-weight: bold;display: inline-block;line-height: 1.2em;}#sk-container-id-1 div.sk-label-container {text-align: center;}#sk-container-id-1 div.sk-container {/* jupyter's `normalize.less` sets `[hidden] { display: none; }` but bootstrap.min.css set `[hidden] { display: none !important; }` so we also need the `!important` here to be able to override the default hidden behavior on the sphinx rendered scikit-learn.org. See: https://github.com/scikit-learn/scikit-learn/issues/21755 */display: inline-block !important;position: relative;}#sk-container-id-1 div.sk-text-repr-fallback {display: none;}</style><div id=\"sk-container-id-1\" class=\"sk-top-container\"><div class=\"sk-text-repr-fallback\"><pre>MinMaxScaler()</pre><b>In a Jupyter environment, please rerun this cell to show the HTML representation or trust the notebook. <br />On GitHub, the HTML representation is unable to render, please try loading this page with nbviewer.org.</b></div><div class=\"sk-container\" hidden><div class=\"sk-item\"><div class=\"sk-estimator sk-toggleable\"><input class=\"sk-toggleable__control sk-hidden--visually\" id=\"sk-estimator-id-1\" type=\"checkbox\" checked><label for=\"sk-estimator-id-1\" class=\"sk-toggleable__label sk-toggleable__label-arrow\">MinMaxScaler</label><div class=\"sk-toggleable__content\"><pre>MinMaxScaler()</pre></div></div></div></div></div>"
            ],
            "text/plain": [
              "MinMaxScaler()"
            ]
          },
          "execution_count": 6,
          "metadata": {},
          "output_type": "execute_result"
        }
      ],
      "source": [
        "scaler = MinMaxScaler()\n",
        "scaler.fit(X_train)"
      ]
    },
    {
      "cell_type": "code",
      "execution_count": null,
      "metadata": {
        "id": "zxJF1phbqa8w"
      },
      "outputs": [],
      "source": [
        "X_train = pd.DataFrame(scaler.transform(X_train), index=X_train.index)\n",
        "X_test = pd.DataFrame(scaler.transform(X_test), index=X_test.index)"
      ]
    },
    {
      "cell_type": "markdown",
      "metadata": {
        "id": "TKhYpTK1qa8x"
      },
      "source": [
        "### RandomizedSearchCV Random Forest"
      ]
    },
    {
      "cell_type": "code",
      "execution_count": null,
      "metadata": {
        "id": "2hvKcxb0qa8x",
        "outputId": "e1b4ec3d-f513-4241-bc2d-81e71e69fc38"
      },
      "outputs": [
        {
          "name": "stderr",
          "output_type": "stream",
          "text": [
            "/Users/chongqi/opt/anaconda3/lib/python3.9/site-packages/sklearn/ensemble/_forest.py:413: FutureWarning: `max_features='auto'` has been deprecated in 1.1 and will be removed in 1.3. To keep the past behaviour, explicitly set `max_features=1.0` or remove this parameter as it is also the default value for RandomForestRegressors and ExtraTreesRegressors.\n",
            "  warn(\n",
            "/Users/chongqi/opt/anaconda3/lib/python3.9/site-packages/sklearn/ensemble/_forest.py:413: FutureWarning: `max_features='auto'` has been deprecated in 1.1 and will be removed in 1.3. To keep the past behaviour, explicitly set `max_features=1.0` or remove this parameter as it is also the default value for RandomForestRegressors and ExtraTreesRegressors.\n",
            "  warn(\n",
            "/Users/chongqi/opt/anaconda3/lib/python3.9/site-packages/sklearn/ensemble/_forest.py:413: FutureWarning: `max_features='auto'` has been deprecated in 1.1 and will be removed in 1.3. To keep the past behaviour, explicitly set `max_features=1.0` or remove this parameter as it is also the default value for RandomForestRegressors and ExtraTreesRegressors.\n",
            "  warn(\n",
            "/Users/chongqi/opt/anaconda3/lib/python3.9/site-packages/sklearn/ensemble/_forest.py:413: FutureWarning: `max_features='auto'` has been deprecated in 1.1 and will be removed in 1.3. To keep the past behaviour, explicitly set `max_features=1.0` or remove this parameter as it is also the default value for RandomForestRegressors and ExtraTreesRegressors.\n",
            "  warn(\n",
            "/Users/chongqi/opt/anaconda3/lib/python3.9/site-packages/sklearn/ensemble/_forest.py:413: FutureWarning: `max_features='auto'` has been deprecated in 1.1 and will be removed in 1.3. To keep the past behaviour, explicitly set `max_features=1.0` or remove this parameter as it is also the default value for RandomForestRegressors and ExtraTreesRegressors.\n",
            "  warn(\n",
            "/Users/chongqi/opt/anaconda3/lib/python3.9/site-packages/sklearn/ensemble/_forest.py:413: FutureWarning: `max_features='auto'` has been deprecated in 1.1 and will be removed in 1.3. To keep the past behaviour, explicitly set `max_features=1.0` or remove this parameter as it is also the default value for RandomForestRegressors and ExtraTreesRegressors.\n",
            "  warn(\n",
            "/Users/chongqi/opt/anaconda3/lib/python3.9/site-packages/sklearn/ensemble/_forest.py:413: FutureWarning: `max_features='auto'` has been deprecated in 1.1 and will be removed in 1.3. To keep the past behaviour, explicitly set `max_features=1.0` or remove this parameter as it is also the default value for RandomForestRegressors and ExtraTreesRegressors.\n",
            "  warn(\n",
            "/Users/chongqi/opt/anaconda3/lib/python3.9/site-packages/sklearn/ensemble/_forest.py:413: FutureWarning: `max_features='auto'` has been deprecated in 1.1 and will be removed in 1.3. To keep the past behaviour, explicitly set `max_features=1.0` or remove this parameter as it is also the default value for RandomForestRegressors and ExtraTreesRegressors.\n",
            "  warn(\n",
            "/Users/chongqi/opt/anaconda3/lib/python3.9/site-packages/sklearn/ensemble/_forest.py:413: FutureWarning: `max_features='auto'` has been deprecated in 1.1 and will be removed in 1.3. To keep the past behaviour, explicitly set `max_features=1.0` or remove this parameter as it is also the default value for RandomForestRegressors and ExtraTreesRegressors.\n",
            "  warn(\n",
            "/Users/chongqi/opt/anaconda3/lib/python3.9/site-packages/sklearn/ensemble/_forest.py:413: FutureWarning: `max_features='auto'` has been deprecated in 1.1 and will be removed in 1.3. To keep the past behaviour, explicitly set `max_features=1.0` or remove this parameter as it is also the default value for RandomForestRegressors and ExtraTreesRegressors.\n",
            "  warn(\n",
            "/Users/chongqi/opt/anaconda3/lib/python3.9/site-packages/sklearn/ensemble/_forest.py:413: FutureWarning: `max_features='auto'` has been deprecated in 1.1 and will be removed in 1.3. To keep the past behaviour, explicitly set `max_features=1.0` or remove this parameter as it is also the default value for RandomForestRegressors and ExtraTreesRegressors.\n",
            "  warn(\n",
            "/Users/chongqi/opt/anaconda3/lib/python3.9/site-packages/sklearn/ensemble/_forest.py:413: FutureWarning: `max_features='auto'` has been deprecated in 1.1 and will be removed in 1.3. To keep the past behaviour, explicitly set `max_features=1.0` or remove this parameter as it is also the default value for RandomForestRegressors and ExtraTreesRegressors.\n",
            "  warn(\n",
            "/Users/chongqi/opt/anaconda3/lib/python3.9/site-packages/sklearn/ensemble/_forest.py:413: FutureWarning: `max_features='auto'` has been deprecated in 1.1 and will be removed in 1.3. To keep the past behaviour, explicitly set `max_features=1.0` or remove this parameter as it is also the default value for RandomForestRegressors and ExtraTreesRegressors.\n",
            "  warn(\n",
            "/Users/chongqi/opt/anaconda3/lib/python3.9/site-packages/sklearn/ensemble/_forest.py:413: FutureWarning: `max_features='auto'` has been deprecated in 1.1 and will be removed in 1.3. To keep the past behaviour, explicitly set `max_features=1.0` or remove this parameter as it is also the default value for RandomForestRegressors and ExtraTreesRegressors.\n",
            "  warn(\n",
            "/Users/chongqi/opt/anaconda3/lib/python3.9/site-packages/sklearn/ensemble/_forest.py:413: FutureWarning: `max_features='auto'` has been deprecated in 1.1 and will be removed in 1.3. To keep the past behaviour, explicitly set `max_features=1.0` or remove this parameter as it is also the default value for RandomForestRegressors and ExtraTreesRegressors.\n",
            "  warn(\n",
            "/Users/chongqi/opt/anaconda3/lib/python3.9/site-packages/sklearn/ensemble/_forest.py:413: FutureWarning: `max_features='auto'` has been deprecated in 1.1 and will be removed in 1.3. To keep the past behaviour, explicitly set `max_features=1.0` or remove this parameter as it is also the default value for RandomForestRegressors and ExtraTreesRegressors.\n",
            "  warn(\n",
            "/Users/chongqi/opt/anaconda3/lib/python3.9/site-packages/joblib/externals/loky/process_executor.py:700: UserWarning: A worker stopped while some jobs were given to the executor. This can be caused by a too short worker timeout or by a memory leak.\n",
            "  warnings.warn(\n",
            "/Users/chongqi/opt/anaconda3/lib/python3.9/site-packages/sklearn/ensemble/_forest.py:413: FutureWarning: `max_features='auto'` has been deprecated in 1.1 and will be removed in 1.3. To keep the past behaviour, explicitly set `max_features=1.0` or remove this parameter as it is also the default value for RandomForestRegressors and ExtraTreesRegressors.\n",
            "  warn(\n",
            "/Users/chongqi/opt/anaconda3/lib/python3.9/site-packages/sklearn/ensemble/_forest.py:413: FutureWarning: `max_features='auto'` has been deprecated in 1.1 and will be removed in 1.3. To keep the past behaviour, explicitly set `max_features=1.0` or remove this parameter as it is also the default value for RandomForestRegressors and ExtraTreesRegressors.\n",
            "  warn(\n",
            "/Users/chongqi/opt/anaconda3/lib/python3.9/site-packages/sklearn/ensemble/_forest.py:413: FutureWarning: `max_features='auto'` has been deprecated in 1.1 and will be removed in 1.3. To keep the past behaviour, explicitly set `max_features=1.0` or remove this parameter as it is also the default value for RandomForestRegressors and ExtraTreesRegressors.\n",
            "  warn(\n",
            "/Users/chongqi/opt/anaconda3/lib/python3.9/site-packages/sklearn/ensemble/_forest.py:413: FutureWarning: `max_features='auto'` has been deprecated in 1.1 and will be removed in 1.3. To keep the past behaviour, explicitly set `max_features=1.0` or remove this parameter as it is also the default value for RandomForestRegressors and ExtraTreesRegressors.\n",
            "  warn(\n",
            "/Users/chongqi/opt/anaconda3/lib/python3.9/site-packages/sklearn/ensemble/_forest.py:413: FutureWarning: `max_features='auto'` has been deprecated in 1.1 and will be removed in 1.3. To keep the past behaviour, explicitly set `max_features=1.0` or remove this parameter as it is also the default value for RandomForestRegressors and ExtraTreesRegressors.\n",
            "  warn(\n",
            "/Users/chongqi/opt/anaconda3/lib/python3.9/site-packages/sklearn/ensemble/_forest.py:413: FutureWarning: `max_features='auto'` has been deprecated in 1.1 and will be removed in 1.3. To keep the past behaviour, explicitly set `max_features=1.0` or remove this parameter as it is also the default value for RandomForestRegressors and ExtraTreesRegressors.\n",
            "  warn(\n"
          ]
        },
        {
          "name": "stderr",
          "output_type": "stream",
          "text": [
            "/Users/chongqi/opt/anaconda3/lib/python3.9/site-packages/sklearn/ensemble/_forest.py:413: FutureWarning: `max_features='auto'` has been deprecated in 1.1 and will be removed in 1.3. To keep the past behaviour, explicitly set `max_features=1.0` or remove this parameter as it is also the default value for RandomForestRegressors and ExtraTreesRegressors.\n",
            "  warn(\n",
            "/Users/chongqi/opt/anaconda3/lib/python3.9/site-packages/sklearn/ensemble/_forest.py:413: FutureWarning: `max_features='auto'` has been deprecated in 1.1 and will be removed in 1.3. To keep the past behaviour, explicitly set `max_features=1.0` or remove this parameter as it is also the default value for RandomForestRegressors and ExtraTreesRegressors.\n",
            "  warn(\n"
          ]
        },
        {
          "name": "stdout",
          "output_type": "stream",
          "text": [
            "training set r-squared:  0.9819377236513135\n",
            "test set r-squared:      0.9027655723772603\n",
            "training set rmse:       58057.15315649944\n",
            "test set rmse:           141273.7032235313\n",
            "training set mape:       0.05046143847373636\n",
            "test set mape:           0.11698165842131433\n"
          ]
        }
      ],
      "source": [
        "# Define parameter grid for RandomizedSearchCV\n",
        "rf_param_dist = {\n",
        "    'n_estimators': [100, 200, 300, 400, 500],  # Number of trees\n",
        "    'max_depth': [None, 10, 20, 30, 40],        # Maximum depth of trees\n",
        "    'min_samples_split': [2, 5, 10],            # Minimum samples required to split an internal node\n",
        "    'min_samples_leaf': [1, 2, 4],              # Minimum samples required to be at a leaf node\n",
        "    'max_features': ['auto', 'sqrt', 'log2'],   # Number of features to consider at each split\n",
        "    'bootstrap': [True, False]                  # Whether bootstrap samples are used when building trees\n",
        "}\n",
        "\n",
        "# Initialize RandomForestRegressor\n",
        "rf_model = RandomForestRegressor(random_state=42)\n",
        "\n",
        "# Initialize RandomizedSearchCV\n",
        "rf_random_search = RandomizedSearchCV(\n",
        "    estimator=rf_model,\n",
        "    param_distributions=rf_param_dist,\n",
        "    n_iter=20,               # Number of parameter settings sampled\n",
        "    cv=4,                    # 4-fold cross-validation\n",
        "    scoring='neg_mean_squared_error',\n",
        "    random_state=42,\n",
        "    n_jobs=-1                # Use all available processors\n",
        ")\n",
        "\n",
        "# Fit RandomizedSearchCV\n",
        "rf_random_search.fit(X_train, np.log(y_train))\n",
        "\n",
        "# Best model\n",
        "best_rf_log = rf_random_search.best_estimator_\n",
        "\n",
        "pred_train = np.exp(best_rf_log.predict(X_train))\n",
        "pred_test = np.exp(best_rf_log.predict(X_test))\n",
        "print('training set r-squared: ', best_rf_log.score(X_train, np.log(y_train)))\n",
        "print('test set r-squared:     ', best_rf_log.score(X_test, np.log(y_test)))\n",
        "print('training set rmse:      ', np.sqrt(mean_squared_error(y_train, pred_train)))\n",
        "print('test set rmse:          ', np.sqrt(mean_squared_error(y_test, pred_test)))\n",
        "print('training set mape:      ', mean_absolute_percentage_error(y_train, pred_train))\n",
        "print('test set mape:          ', mean_absolute_percentage_error(y_test, pred_test))\n"
      ]
    },
    {
      "cell_type": "markdown",
      "metadata": {
        "id": "PXalj8F_qa8x"
      },
      "source": [
        "### RandomizedSearchCV DecisionTreeRegressor"
      ]
    },
    {
      "cell_type": "code",
      "execution_count": null,
      "metadata": {
        "id": "Vr5dDZSkqa8x",
        "outputId": "b34d7788-6434-43bb-8b57-6240d123e33c"
      },
      "outputs": [
        {
          "name": "stdout",
          "output_type": "stream",
          "text": [
            "training set r-squared:  0.9245675676615596\n",
            "test set r-squared:      0.8357026706796978\n",
            "training set rmse:       109046.17964093712\n",
            "test set rmse:           162793.9042886265\n",
            "training set mape:       0.10550816798000565\n",
            "test set mape:           0.15612923397713668\n"
          ]
        }
      ],
      "source": [
        "# Define parameter grid for RandomizedSearchCV\n",
        "dt_param_dist = {\n",
        "    'max_depth': [None, 10, 20, 30, 40],          # Maximum depth of the tree\n",
        "    'min_samples_split': [2, 5, 10, 20],         # Minimum samples required to split an internal node\n",
        "    'min_samples_leaf': [1, 2, 4, 8],            # Minimum samples required to be at a leaf node\n",
        "    'max_features': [None, 'sqrt', 'log2']       # Number of features to consider for the best split\n",
        "}\n",
        "\n",
        "# Initialize DecisionTreeRegressor\n",
        "dt_model = DecisionTreeRegressor(random_state=42)\n",
        "\n",
        "# Initialize RandomizedSearchCV\n",
        "dt_random_search = RandomizedSearchCV(\n",
        "    estimator=dt_model,\n",
        "    param_distributions=dt_param_dist,\n",
        "    n_iter=20,               # Number of parameter settings sampled\n",
        "    cv=4,                    # 4-fold cross-validation\n",
        "    scoring='neg_mean_squared_error',\n",
        "    random_state=42,\n",
        "    n_jobs=-1                # Use all available processors\n",
        ")\n",
        "\n",
        "# Fit RandomizedSearchCV\n",
        "dt_random_search.fit(X_train, np.log(y_train))\n",
        "\n",
        "# Best model\n",
        "best_dt_log = dt_random_search.best_estimator_\n",
        "\n",
        "pred_train = np.exp(best_dt_log.predict(X_train))\n",
        "pred_test = np.exp(best_dt_log.predict(X_test))\n",
        "print('training set r-squared: ', best_dt_log.score(X_train, np.log(y_train)))\n",
        "print('test set r-squared:     ', best_dt_log.score(X_test, np.log(y_test)))\n",
        "print('training set rmse:      ', np.sqrt(mean_squared_error(y_train, pred_train)))\n",
        "print('test set rmse:          ', np.sqrt(mean_squared_error(y_test, pred_test)))\n",
        "print('training set mape:      ', mean_absolute_percentage_error(y_train, pred_train))\n",
        "print('test set mape:          ', mean_absolute_percentage_error(y_test, pred_test))\n"
      ]
    },
    {
      "cell_type": "code",
      "execution_count": null,
      "metadata": {
        "id": "VjFEox00qa8y"
      },
      "outputs": [],
      "source": []
    },
    {
      "cell_type": "code",
      "execution_count": null,
      "metadata": {
        "id": "CKYCoeSrqa8y"
      },
      "outputs": [],
      "source": []
    },
    {
      "cell_type": "markdown",
      "metadata": {
        "id": "YHfHDuasqa8y"
      },
      "source": [
        "## RandomizedSearchCV XGB"
      ]
    },
    {
      "cell_type": "code",
      "execution_count": null,
      "metadata": {
        "id": "GdhZyOmuqa8y"
      },
      "outputs": [],
      "source": [
        "#### Original parameter grid for RandomizedSearchCV\n",
        "\n",
        "xgb_param_dist = {\n",
        "    'learning_rate': [0.03, 0.04, 0.05, 0.06, 0.07],\n",
        "    'max_depth': [5, 6, 7],\n",
        "    'n_estimators': [400, 500, 600],\n",
        "    'colsample_bytree': np.arange(0.1, 1.1, 0.1),\n",
        "    'reg_alpha': [1, 3, 5],\n",
        "    'reg_lambda': [3, 5, 7]\n",
        "}"
      ]
    },
    {
      "cell_type": "code",
      "execution_count": null,
      "metadata": {
        "id": "jwTblBbzqa8y"
      },
      "outputs": [],
      "source": [
        "# Define parameter grid for GridSearchCV\n",
        "param_grid = {\n",
        "    'learning_rate': [0.05, 0.06, 0.07],\n",
        "    'max_depth': [5, 6, 7],\n",
        "    'n_estimators': [450, 500, 550],\n",
        "    'colsample_bytree': np.arange(0.2, 0.5, 0.1),\n",
        "    'reg_alpha': [2, 3, 4],\n",
        "    'reg_lambda': [4, 5, 6]\n",
        "}\n"
      ]
    },
    {
      "cell_type": "code",
      "execution_count": null,
      "metadata": {
        "id": "E16lf7xwqa8z"
      },
      "outputs": [],
      "source": [
        "model = XGBRegressor(**{'reg_lambda': 5,\n",
        "                        'reg_alpha': 3,\n",
        "                        'n_estimators': 500,\n",
        "                        'max_depth': 6,\n",
        "                        'learning_rate': 0.06,\n",
        "                        'colsample_bytree': 0.3})"
      ]
    },
    {
      "cell_type": "code",
      "execution_count": null,
      "metadata": {
        "id": "YxQk2-_5qa8z"
      },
      "outputs": [],
      "source": [
        "model_search_log = GridSearchCV(model, param_grid=param_grid, cv=5, n_jobs=-1, verbose=1)"
      ]
    },
    {
      "cell_type": "code",
      "execution_count": null,
      "metadata": {
        "id": "SlLZIvvYqa8z",
        "outputId": "a69a8aa3-17ad-467f-bf02-72869314016c"
      },
      "outputs": [
        {
          "name": "stdout",
          "output_type": "stream",
          "text": [
            "Fitting 5 folds for each of 729 candidates, totalling 3645 fits\n"
          ]
        },
        {
          "data": {
            "text/plain": [
              "GridSearchCV(cv=5,\n",
              "             estimator=XGBRegressor(base_score=None, booster=None,\n",
              "                                    callbacks=None, colsample_bylevel=None,\n",
              "                                    colsample_bynode=None, colsample_bytree=0.3,\n",
              "                                    early_stopping_rounds=None,\n",
              "                                    enable_categorical=False, eval_metric=None,\n",
              "                                    feature_types=None, gamma=None, gpu_id=None,\n",
              "                                    grow_policy=None, importance_type=None,\n",
              "                                    interaction_constraints=None,\n",
              "                                    learning_rate=0.06, ma...\n",
              "                                    max_depth=6, max_leaves=None,\n",
              "                                    min_child_weight=None, missing=nan,\n",
              "                                    monotone_constraints=None, n_estimators=500,\n",
              "                                    n_jobs=None, num_parallel_tree=None,\n",
              "                                    predictor=None, random_state=None, ...),\n",
              "             n_jobs=-1,\n",
              "             param_grid={'colsample_bytree': array([0.2, 0.3, 0.4]),\n",
              "                         'learning_rate': [0.05, 0.06, 0.07],\n",
              "                         'max_depth': [5, 6, 7],\n",
              "                         'n_estimators': [450, 500, 550],\n",
              "                         'reg_alpha': [2, 3, 4], 'reg_lambda': [4, 5, 6]},\n",
              "             verbose=1)"
            ]
          },
          "execution_count": 11,
          "metadata": {},
          "output_type": "execute_result"
        }
      ],
      "source": [
        "model_search_log.fit(X_train, np.log(y_train))"
      ]
    },
    {
      "cell_type": "code",
      "execution_count": null,
      "metadata": {
        "id": "YhorKXGgqa8z",
        "outputId": "e78b13bf-bbd0-43ab-c7a4-c3b88a8e0827"
      },
      "outputs": [
        {
          "name": "stdout",
          "output_type": "stream",
          "text": [
            "{'colsample_bytree': 0.30000000000000004, 'learning_rate': 0.06, 'max_depth': 7, 'n_estimators': 550, 'reg_alpha': 2, 'reg_lambda': 6}\n"
          ]
        }
      ],
      "source": [
        "print(model_search_log.best_params_)"
      ]
    },
    {
      "cell_type": "code",
      "execution_count": null,
      "metadata": {
        "id": "zEev2DyEqa8z"
      },
      "outputs": [],
      "source": [
        "best_xgb_log = model_search_log.best_estimator_"
      ]
    },
    {
      "cell_type": "code",
      "execution_count": null,
      "metadata": {
        "scrolled": true,
        "id": "ocVZWSdRqa8z",
        "outputId": "2ccfdb84-7f6e-452f-c1f4-8f506177f1cc"
      },
      "outputs": [
        {
          "name": "stdout",
          "output_type": "stream",
          "text": [
            "training set r-squared:  0.9519741197164792\n",
            "test set r-squared:      0.9192446044219327\n",
            "training set rmse:       74766.35000405362\n",
            "test set rmse:           120609.19385731044\n",
            "training set mape:       0.08367631684636473\n",
            "test set mape:           0.10717089609238625\n"
          ]
        }
      ],
      "source": [
        "pred_train = np.exp(best_xgb_log.predict(X_train))\n",
        "pred_test = np.exp(best_xgb_log.predict(X_test))\n",
        "print('training set r-squared: ', best_xgb_log.score(X_train, np.log(y_train)))\n",
        "print('test set r-squared:     ', best_xgb_log.score(X_test, np.log(y_test)))\n",
        "print('training set rmse:      ', np.sqrt(mean_squared_error(y_train, pred_train)))\n",
        "print('test set rmse:          ', np.sqrt(mean_squared_error(y_test, pred_test)))\n",
        "print('training set mape:      ', mean_absolute_percentage_error(y_train, pred_train))\n",
        "print('test set mape:          ', mean_absolute_percentage_error(y_test, pred_test))"
      ]
    },
    {
      "cell_type": "code",
      "execution_count": null,
      "metadata": {
        "id": "kY7-mg6-qa80",
        "outputId": "89f61ef2-879f-4db5-fa8c-0caf9acf3e5a"
      },
      "outputs": [
        {
          "data": {
            "text/plain": [
              "['best_xgb_log_0506_9192.joblib']"
            ]
          },
          "execution_count": 16,
          "metadata": {},
          "output_type": "execute_result"
        }
      ],
      "source": [
        "joblib.dump(best_xgb_log, 'best_xgb_log_0506_9192.joblib')"
      ]
    },
    {
      "cell_type": "code",
      "execution_count": null,
      "metadata": {
        "id": "uz-n-7Udqa80"
      },
      "outputs": [],
      "source": []
    },
    {
      "cell_type": "code",
      "execution_count": null,
      "metadata": {
        "id": "C3GS1thFqa80"
      },
      "outputs": [],
      "source": [
        "# Define parameter grid for GridSearchCV\n",
        "param_grid = {\n",
        "    'max_depth': [7, 8],\n",
        "    'n_estimators': [550, 600],\n",
        "    'colsample_bytree': [0.25, 0.3, 0.35],\n",
        "    'reg_alpha': [1.5, 2, 2.5],\n",
        "    'reg_lambda': [5.5, 6, 6.5]\n",
        "}\n"
      ]
    },
    {
      "cell_type": "code",
      "execution_count": null,
      "metadata": {
        "id": "rwV3rFrdqa80"
      },
      "outputs": [],
      "source": [
        "model = XGBRegressor(**{'reg_lambda': 6,\n",
        "                        'reg_alpha': 2,\n",
        "                        'n_estimators': 550,\n",
        "                        'max_depth': 7,\n",
        "                        'learning_rate': 0.06,\n",
        "                        'colsample_bytree': 0.3})"
      ]
    },
    {
      "cell_type": "code",
      "execution_count": null,
      "metadata": {
        "id": "vjGCvxN_qa80"
      },
      "outputs": [],
      "source": [
        "model_search_log = GridSearchCV(model, param_grid=param_grid, cv=5, n_jobs=-1, verbose=1)"
      ]
    },
    {
      "cell_type": "code",
      "execution_count": null,
      "metadata": {
        "id": "-vVs8daAqa80",
        "outputId": "dda18888-f9db-42aa-9ab6-15e472038667"
      },
      "outputs": [
        {
          "name": "stdout",
          "output_type": "stream",
          "text": [
            "Fitting 5 folds for each of 108 candidates, totalling 540 fits\n"
          ]
        },
        {
          "data": {
            "text/plain": [
              "GridSearchCV(cv=5,\n",
              "             estimator=XGBRegressor(base_score=None, booster=None,\n",
              "                                    callbacks=None, colsample_bylevel=None,\n",
              "                                    colsample_bynode=None, colsample_bytree=0.3,\n",
              "                                    early_stopping_rounds=None,\n",
              "                                    enable_categorical=False, eval_metric=None,\n",
              "                                    feature_types=None, gamma=None, gpu_id=None,\n",
              "                                    grow_policy=None, importance_type=None,\n",
              "                                    interaction_constraints=None,\n",
              "                                    learning_rate=0.06, ma...\n",
              "                                    max_cat_to_onehot=None, max_delta_step=None,\n",
              "                                    max_depth=7, max_leaves=None,\n",
              "                                    min_child_weight=None, missing=nan,\n",
              "                                    monotone_constraints=None, n_estimators=550,\n",
              "                                    n_jobs=None, num_parallel_tree=None,\n",
              "                                    predictor=None, random_state=None, ...),\n",
              "             n_jobs=-1,\n",
              "             param_grid={'colsample_bytree': [0.25, 0.3, 0.35],\n",
              "                         'max_depth': [7, 8], 'n_estimators': [550, 600],\n",
              "                         'reg_alpha': [1.5, 2, 2.5],\n",
              "                         'reg_lambda': [5.5, 6, 6.5]},\n",
              "             verbose=1)"
            ]
          },
          "execution_count": 20,
          "metadata": {},
          "output_type": "execute_result"
        }
      ],
      "source": [
        "model_search_log.fit(X_train, np.log(y_train))"
      ]
    },
    {
      "cell_type": "code",
      "execution_count": null,
      "metadata": {
        "id": "OcrGJMv7qa80",
        "outputId": "4be3feb7-8d17-4ad9-cefb-cf55c7f270ca"
      },
      "outputs": [
        {
          "name": "stdout",
          "output_type": "stream",
          "text": [
            "{'colsample_bytree': 0.3, 'max_depth': 7, 'n_estimators': 600, 'reg_alpha': 2, 'reg_lambda': 6}\n"
          ]
        }
      ],
      "source": [
        "print(model_search_log.best_params_)"
      ]
    },
    {
      "cell_type": "code",
      "execution_count": null,
      "metadata": {
        "id": "n6bFUGI0qa81"
      },
      "outputs": [],
      "source": [
        "best_xgb_log = model_search_log.best_estimator_"
      ]
    },
    {
      "cell_type": "code",
      "execution_count": null,
      "metadata": {
        "scrolled": false,
        "id": "o_RU9ZDaqa81",
        "outputId": "48f516e3-d0e7-428a-a174-82372f2eed89"
      },
      "outputs": [
        {
          "name": "stdout",
          "output_type": "stream",
          "text": [
            "training set r-squared:  0.9538955070530486\n",
            "test set r-squared:      0.9193857002194192\n",
            "training set rmse:       73188.7344169428\n",
            "test set rmse:           120298.3705110394\n",
            "training set mape:       0.08195083553787552\n",
            "test set mape:           0.10707397737459101\n"
          ]
        }
      ],
      "source": [
        "pred_train = np.exp(best_xgb_log.predict(X_train))\n",
        "pred_test = np.exp(best_xgb_log.predict(X_test))\n",
        "print('training set r-squared: ', best_xgb_log.score(X_train, np.log(y_train)))\n",
        "print('test set r-squared:     ', best_xgb_log.score(X_test, np.log(y_test)))\n",
        "print('training set rmse:      ', np.sqrt(mean_squared_error(y_train, pred_train)))\n",
        "print('test set rmse:          ', np.sqrt(mean_squared_error(y_test, pred_test)))\n",
        "print('training set mape:      ', mean_absolute_percentage_error(y_train, pred_train))\n",
        "print('test set mape:          ', mean_absolute_percentage_error(y_test, pred_test))"
      ]
    },
    {
      "cell_type": "code",
      "execution_count": null,
      "metadata": {
        "id": "TjaiThe_qa81"
      },
      "outputs": [],
      "source": [
        "# joblib.dump(best_xgb_log, 'best_xgb_log_0506_9192.joblib')"
      ]
    },
    {
      "cell_type": "code",
      "execution_count": null,
      "metadata": {
        "id": "_zM1Gy2Oqa81"
      },
      "outputs": [],
      "source": []
    },
    {
      "cell_type": "code",
      "execution_count": null,
      "metadata": {
        "id": "LANBpRipqa81"
      },
      "outputs": [],
      "source": [
        "# Define parameter grid for GridSearchCV\n",
        "param_grid = {\n",
        "    'n_estimators': [600, 650, 700],\n",
        "}\n"
      ]
    },
    {
      "cell_type": "code",
      "execution_count": null,
      "metadata": {
        "id": "GdGCN37dqa81"
      },
      "outputs": [],
      "source": [
        "model = XGBRegressor(**{'reg_lambda': 6,\n",
        "                        'reg_alpha': 2,\n",
        "                        'n_estimators': 600,\n",
        "                        'max_depth': 7,\n",
        "                        'learning_rate': 0.06,\n",
        "                        'colsample_bytree': 0.3})"
      ]
    },
    {
      "cell_type": "code",
      "execution_count": null,
      "metadata": {
        "id": "wgp-CIemqa81"
      },
      "outputs": [],
      "source": [
        "model_search_log = GridSearchCV(model, param_grid=param_grid, cv=5, n_jobs=-1, verbose=1)"
      ]
    },
    {
      "cell_type": "code",
      "execution_count": null,
      "metadata": {
        "id": "eUG-WS32qa82",
        "outputId": "b4438902-46d5-460c-ed3b-83cb1cca065c"
      },
      "outputs": [
        {
          "name": "stdout",
          "output_type": "stream",
          "text": [
            "Fitting 5 folds for each of 3 candidates, totalling 15 fits\n"
          ]
        },
        {
          "data": {
            "text/plain": [
              "GridSearchCV(cv=5,\n",
              "             estimator=XGBRegressor(base_score=None, booster=None,\n",
              "                                    callbacks=None, colsample_bylevel=None,\n",
              "                                    colsample_bynode=None, colsample_bytree=0.3,\n",
              "                                    early_stopping_rounds=None,\n",
              "                                    enable_categorical=False, eval_metric=None,\n",
              "                                    feature_types=None, gamma=None, gpu_id=None,\n",
              "                                    grow_policy=None, importance_type=None,\n",
              "                                    interaction_constraints=None,\n",
              "                                    learning_rate=0.06, max_bin=None,\n",
              "                                    max_cat_threshold=None,\n",
              "                                    max_cat_to_onehot=None, max_delta_step=None,\n",
              "                                    max_depth=7, max_leaves=None,\n",
              "                                    min_child_weight=None, missing=nan,\n",
              "                                    monotone_constraints=None, n_estimators=600,\n",
              "                                    n_jobs=None, num_parallel_tree=None,\n",
              "                                    predictor=None, random_state=None, ...),\n",
              "             n_jobs=-1, param_grid={'n_estimators': [600, 650, 700]},\n",
              "             verbose=1)"
            ]
          },
          "execution_count": 28,
          "metadata": {},
          "output_type": "execute_result"
        }
      ],
      "source": [
        "model_search_log.fit(X_train, np.log(y_train))"
      ]
    },
    {
      "cell_type": "code",
      "execution_count": null,
      "metadata": {
        "id": "QGd4y3oMqa82",
        "outputId": "fccf5627-f1e5-4bb4-997f-882e7af8b9d8"
      },
      "outputs": [
        {
          "name": "stdout",
          "output_type": "stream",
          "text": [
            "{'n_estimators': 700}\n"
          ]
        }
      ],
      "source": [
        "print(model_search_log.best_params_)"
      ]
    },
    {
      "cell_type": "code",
      "execution_count": null,
      "metadata": {
        "id": "YUtQaXSoqa86"
      },
      "outputs": [],
      "source": [
        "best_xgb_log = model_search_log.best_estimator_"
      ]
    },
    {
      "cell_type": "code",
      "execution_count": null,
      "metadata": {
        "scrolled": false,
        "id": "xlkHWYrQqa86",
        "outputId": "b849b0f1-d5b3-4ead-bc88-2760d63ffd6c"
      },
      "outputs": [
        {
          "name": "stdout",
          "output_type": "stream",
          "text": [
            "training set r-squared:  0.9572883349077336\n",
            "test set r-squared:      0.9195335721578998\n",
            "training set rmse:       69895.63161204052\n",
            "test set rmse:           119799.14741726019\n",
            "training set mape:       0.07884935493327737\n",
            "test set mape:           0.10696072300390187\n"
          ]
        }
      ],
      "source": [
        "pred_train = np.exp(best_xgb_log.predict(X_train))\n",
        "pred_test = np.exp(best_xgb_log.predict(X_test))\n",
        "print('training set r-squared: ', best_xgb_log.score(X_train, np.log(y_train)))\n",
        "print('test set r-squared:     ', best_xgb_log.score(X_test, np.log(y_test)))\n",
        "print('training set rmse:      ', np.sqrt(mean_squared_error(y_train, pred_train)))\n",
        "print('test set rmse:          ', np.sqrt(mean_squared_error(y_test, pred_test)))\n",
        "print('training set mape:      ', mean_absolute_percentage_error(y_train, pred_train))\n",
        "print('test set mape:          ', mean_absolute_percentage_error(y_test, pred_test))"
      ]
    },
    {
      "cell_type": "code",
      "execution_count": null,
      "metadata": {
        "id": "p5l4SNryqa86",
        "outputId": "61a917f9-5bf8-416b-a030-286e94955f1e"
      },
      "outputs": [
        {
          "data": {
            "text/plain": [
              "['best_xgb_log_0506_9195.joblib']"
            ]
          },
          "execution_count": 32,
          "metadata": {},
          "output_type": "execute_result"
        }
      ],
      "source": [
        "joblib.dump(best_xgb_log, 'best_xgb_log_0506_9195.joblib')"
      ]
    },
    {
      "cell_type": "code",
      "execution_count": null,
      "metadata": {
        "id": "kl5TEtw9qa87"
      },
      "outputs": [],
      "source": []
    },
    {
      "cell_type": "code",
      "execution_count": null,
      "metadata": {
        "id": "fQ7F3-nPqa87"
      },
      "outputs": [],
      "source": [
        "# Define parameter grid for GridSearchCV\n",
        "param_grid = {\n",
        "    'n_estimators': [700, 750, 800],\n",
        "}\n"
      ]
    },
    {
      "cell_type": "code",
      "execution_count": null,
      "metadata": {
        "id": "_Z-LN1BQqa87"
      },
      "outputs": [],
      "source": [
        "model = XGBRegressor(**{'reg_lambda': 6,\n",
        "                        'reg_alpha': 2,\n",
        "                        'n_estimators': 600,\n",
        "                        'max_depth': 7,\n",
        "                        'learning_rate': 0.06,\n",
        "                        'colsample_bytree': 0.3})"
      ]
    },
    {
      "cell_type": "code",
      "execution_count": null,
      "metadata": {
        "id": "JsRPc1g6qa87"
      },
      "outputs": [],
      "source": [
        "model_search_log = GridSearchCV(model, param_grid=param_grid, cv=5, n_jobs=-1, verbose=1)"
      ]
    },
    {
      "cell_type": "code",
      "execution_count": null,
      "metadata": {
        "id": "xDMKzDzsqa87",
        "outputId": "fd2b2d9d-74a9-48df-c2b3-fbd40782102e"
      },
      "outputs": [
        {
          "name": "stdout",
          "output_type": "stream",
          "text": [
            "Fitting 5 folds for each of 3 candidates, totalling 15 fits\n"
          ]
        },
        {
          "data": {
            "text/plain": [
              "GridSearchCV(cv=5,\n",
              "             estimator=XGBRegressor(base_score=None, booster=None,\n",
              "                                    callbacks=None, colsample_bylevel=None,\n",
              "                                    colsample_bynode=None, colsample_bytree=0.3,\n",
              "                                    early_stopping_rounds=None,\n",
              "                                    enable_categorical=False, eval_metric=None,\n",
              "                                    feature_types=None, gamma=None, gpu_id=None,\n",
              "                                    grow_policy=None, importance_type=None,\n",
              "                                    interaction_constraints=None,\n",
              "                                    learning_rate=0.06, max_bin=None,\n",
              "                                    max_cat_threshold=None,\n",
              "                                    max_cat_to_onehot=None, max_delta_step=None,\n",
              "                                    max_depth=7, max_leaves=None,\n",
              "                                    min_child_weight=None, missing=nan,\n",
              "                                    monotone_constraints=None, n_estimators=600,\n",
              "                                    n_jobs=None, num_parallel_tree=None,\n",
              "                                    predictor=None, random_state=None, ...),\n",
              "             n_jobs=-1, param_grid={'n_estimators': [700, 750, 800]},\n",
              "             verbose=1)"
            ]
          },
          "execution_count": 36,
          "metadata": {},
          "output_type": "execute_result"
        }
      ],
      "source": [
        "model_search_log.fit(X_train, np.log(y_train))"
      ]
    },
    {
      "cell_type": "code",
      "execution_count": null,
      "metadata": {
        "id": "Se5k-vx4qa87",
        "outputId": "d00dde4a-b1ea-4397-90c7-3f88dacb5571"
      },
      "outputs": [
        {
          "name": "stdout",
          "output_type": "stream",
          "text": [
            "{'n_estimators': 700}\n"
          ]
        }
      ],
      "source": [
        "print(model_search_log.best_params_)"
      ]
    },
    {
      "cell_type": "code",
      "execution_count": null,
      "metadata": {
        "id": "fRhdxcZ0qa87"
      },
      "outputs": [],
      "source": [
        "best_xgb_log = model_search_log.best_estimator_"
      ]
    },
    {
      "cell_type": "code",
      "execution_count": null,
      "metadata": {
        "scrolled": false,
        "id": "aGJbEGnxqa88",
        "outputId": "5f0a6c2d-aab5-4cd8-a732-ed187cc6daad"
      },
      "outputs": [
        {
          "name": "stdout",
          "output_type": "stream",
          "text": [
            "training set r-squared:  0.9572883349077336\n",
            "test set r-squared:      0.9195335721578998\n",
            "training set rmse:       69895.63161204052\n",
            "test set rmse:           119799.14741726019\n",
            "training set mape:       0.07884935493327737\n",
            "test set mape:           0.10696072300390187\n"
          ]
        }
      ],
      "source": [
        "pred_train = np.exp(best_xgb_log.predict(X_train))\n",
        "pred_test = np.exp(best_xgb_log.predict(X_test))\n",
        "print('training set r-squared: ', best_xgb_log.score(X_train, np.log(y_train)))\n",
        "print('test set r-squared:     ', best_xgb_log.score(X_test, np.log(y_test)))\n",
        "print('training set rmse:      ', np.sqrt(mean_squared_error(y_train, pred_train)))\n",
        "print('test set rmse:          ', np.sqrt(mean_squared_error(y_test, pred_test)))\n",
        "print('training set mape:      ', mean_absolute_percentage_error(y_train, pred_train))\n",
        "print('test set mape:          ', mean_absolute_percentage_error(y_test, pred_test))"
      ]
    },
    {
      "cell_type": "code",
      "execution_count": null,
      "metadata": {
        "id": "yLqxWB45qa88"
      },
      "outputs": [],
      "source": [
        "# joblib.dump(best_xgb_log, 'best_xgb_log_0506_9195.joblib')"
      ]
    },
    {
      "cell_type": "code",
      "execution_count": null,
      "metadata": {
        "id": "A3fvIfuLqa88"
      },
      "outputs": [],
      "source": []
    },
    {
      "cell_type": "code",
      "execution_count": null,
      "metadata": {
        "id": "MV2Jagatqa88"
      },
      "outputs": [],
      "source": []
    },
    {
      "cell_type": "code",
      "execution_count": null,
      "metadata": {
        "id": "4bO59d6pqa88"
      },
      "outputs": [],
      "source": []
    },
    {
      "cell_type": "code",
      "execution_count": null,
      "metadata": {
        "id": "Vrm3ZasLqa88"
      },
      "outputs": [],
      "source": []
    }
  ],
  "metadata": {
    "kernelspec": {
      "display_name": "Python 3 (ipykernel)",
      "language": "python",
      "name": "python3"
    },
    "language_info": {
      "codemirror_mode": {
        "name": "ipython",
        "version": 3
      },
      "file_extension": ".py",
      "mimetype": "text/x-python",
      "name": "python",
      "nbconvert_exporter": "python",
      "pygments_lexer": "ipython3",
      "version": "3.9.13"
    },
    "colab": {
      "provenance": []
    }
  },
  "nbformat": 4,
  "nbformat_minor": 0
}