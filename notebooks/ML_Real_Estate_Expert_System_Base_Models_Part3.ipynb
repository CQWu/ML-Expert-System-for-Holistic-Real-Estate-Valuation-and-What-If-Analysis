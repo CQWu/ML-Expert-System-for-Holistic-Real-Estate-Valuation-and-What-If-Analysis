{
  "cells": [
    {
      "cell_type": "code",
      "execution_count": null,
      "metadata": {
        "id": "-vRZZ2bmpMUi"
      },
      "outputs": [],
      "source": [
        "import joblib"
      ]
    },
    {
      "cell_type": "code",
      "execution_count": null,
      "metadata": {
        "id": "xY36jJWapMUl"
      },
      "outputs": [],
      "source": [
        "import numpy as np\n",
        "import pandas as pd\n",
        "from sklearn.preprocessing import MinMaxScaler\n",
        "from sklearn.model_selection import GridSearchCV\n",
        "from sklearn.model_selection import train_test_split\n",
        "from sklearn.metrics import r2_score, mean_squared_error, mean_absolute_percentage_error\n",
        "\n",
        "from xgboost import XGBRegressor"
      ]
    },
    {
      "cell_type": "code",
      "execution_count": null,
      "metadata": {
        "id": "fouCbVyhpMUm"
      },
      "outputs": [],
      "source": [
        "df = pd.read_csv('data3_0505.csv', index_col=0)"
      ]
    },
    {
      "cell_type": "code",
      "execution_count": null,
      "metadata": {
        "id": "0lGRWk1KpMUm"
      },
      "outputs": [],
      "source": [
        "X=df.drop(['price'], axis=1)\n",
        "y = df['price']"
      ]
    },
    {
      "cell_type": "markdown",
      "metadata": {
        "id": "Dxyv1i0XpMUn"
      },
      "source": [
        "### Training/Test Set Split and MinMaxScaler"
      ]
    },
    {
      "cell_type": "code",
      "execution_count": null,
      "metadata": {
        "id": "00FgR8ixpMUo"
      },
      "outputs": [],
      "source": [
        "X_train, X_test, y_train, y_test = train_test_split(X, y, test_size=0.25, random_state=7633)"
      ]
    },
    {
      "cell_type": "code",
      "execution_count": null,
      "metadata": {
        "id": "GhGBqfZ0pMUo",
        "outputId": "a558d32f-7ef3-4527-f82d-4bc7462eca3c"
      },
      "outputs": [
        {
          "data": {
            "text/plain": [
              "MinMaxScaler()"
            ]
          },
          "execution_count": 6,
          "metadata": {},
          "output_type": "execute_result"
        }
      ],
      "source": [
        "scaler = MinMaxScaler()\n",
        "scaler.fit(X_train)"
      ]
    },
    {
      "cell_type": "code",
      "execution_count": null,
      "metadata": {
        "id": "kie_4JM_pMUp"
      },
      "outputs": [],
      "source": [
        "X_train = pd.DataFrame(scaler.transform(X_train), index=X_train.index)\n",
        "X_test = pd.DataFrame(scaler.transform(X_test), index=X_test.index)"
      ]
    },
    {
      "cell_type": "markdown",
      "metadata": {
        "id": "4RBAMVJopMUp"
      },
      "source": [
        "## RandomizedSearchCV XGB"
      ]
    },
    {
      "cell_type": "code",
      "execution_count": null,
      "metadata": {
        "id": "MBW9gTc1pMUp"
      },
      "outputs": [],
      "source": [
        "#### Original parameter grid for RandomizedSearchCV\n",
        "\n",
        "xgb_param_dist = {\n",
        "    'learning_rate': [0.03, 0.04, 0.05, 0.06, 0.07],\n",
        "    'max_depth': [5, 6, 7],\n",
        "    'n_estimators': [400, 500, 600],\n",
        "    'colsample_bytree': np.arange(0.1, 1.1, 0.1),\n",
        "    'reg_alpha': [1, 3, 5],\n",
        "    'reg_lambda': [3, 5, 7]\n",
        "}"
      ]
    },
    {
      "cell_type": "code",
      "execution_count": null,
      "metadata": {
        "id": "UaeQGErfpMUq"
      },
      "outputs": [],
      "source": [
        "# Define parameter grid for GridSearchCV\n",
        "param_grid = {\n",
        "    'learning_rate': [0.05, 0.06, 0.07],\n",
        "    'max_depth': [5, 6, 7],\n",
        "    'n_estimators': [450, 500, 550],\n",
        "    'colsample_bytree': np.arange(0.2, 0.5, 0.1),\n",
        "    'reg_alpha': [2, 3, 4],\n",
        "    'reg_lambda': [4, 5, 6]\n",
        "}\n"
      ]
    },
    {
      "cell_type": "code",
      "execution_count": null,
      "metadata": {
        "id": "4YgpONXRpMUq"
      },
      "outputs": [],
      "source": [
        "model = XGBRegressor(**{'reg_lambda': 5,\n",
        "                        'reg_alpha': 3,\n",
        "                        'n_estimators': 500,\n",
        "                        'max_depth': 6,\n",
        "                        'learning_rate': 0.06,\n",
        "                        'colsample_bytree': 0.3})"
      ]
    },
    {
      "cell_type": "code",
      "execution_count": null,
      "metadata": {
        "id": "XqURE9bspMUq"
      },
      "outputs": [],
      "source": [
        "model_search_log = GridSearchCV(model, param_grid=param_grid, cv=5, n_jobs=-1, verbose=1)"
      ]
    },
    {
      "cell_type": "code",
      "execution_count": null,
      "metadata": {
        "id": "NrjhjRhOpMUq",
        "outputId": "92bbb377-57a4-4c33-f5a4-4e5433e9c0ea"
      },
      "outputs": [
        {
          "name": "stdout",
          "output_type": "stream",
          "text": [
            "Fitting 5 folds for each of 729 candidates, totalling 3645 fits\n"
          ]
        },
        {
          "data": {
            "text/plain": [
              "GridSearchCV(cv=5,\n",
              "             estimator=XGBRegressor(base_score=None, booster=None,\n",
              "                                    callbacks=None, colsample_bylevel=None,\n",
              "                                    colsample_bynode=None, colsample_bytree=0.3,\n",
              "                                    early_stopping_rounds=None,\n",
              "                                    enable_categorical=False, eval_metric=None,\n",
              "                                    feature_types=None, gamma=None, gpu_id=None,\n",
              "                                    grow_policy=None, importance_type=None,\n",
              "                                    interaction_constraints=None,\n",
              "                                    learning_rate=0.06, ma...\n",
              "                                    max_depth=6, max_leaves=None,\n",
              "                                    min_child_weight=None, missing=nan,\n",
              "                                    monotone_constraints=None, n_estimators=500,\n",
              "                                    n_jobs=None, num_parallel_tree=None,\n",
              "                                    predictor=None, random_state=None, ...),\n",
              "             n_jobs=-1,\n",
              "             param_grid={'colsample_bytree': array([0.2, 0.3, 0.4]),\n",
              "                         'learning_rate': [0.05, 0.06, 0.07],\n",
              "                         'max_depth': [5, 6, 7],\n",
              "                         'n_estimators': [450, 500, 550],\n",
              "                         'reg_alpha': [2, 3, 4], 'reg_lambda': [4, 5, 6]},\n",
              "             verbose=1)"
            ]
          },
          "execution_count": 11,
          "metadata": {},
          "output_type": "execute_result"
        }
      ],
      "source": [
        "model_search_log.fit(X_train, np.log(y_train))"
      ]
    },
    {
      "cell_type": "code",
      "execution_count": null,
      "metadata": {
        "id": "k9cFTce1pMUr",
        "outputId": "f654a516-74dc-4b7c-93a0-c063584ee0d7"
      },
      "outputs": [
        {
          "name": "stdout",
          "output_type": "stream",
          "text": [
            "{'colsample_bytree': 0.30000000000000004, 'learning_rate': 0.06, 'max_depth': 7, 'n_estimators': 550, 'reg_alpha': 2, 'reg_lambda': 6}\n"
          ]
        }
      ],
      "source": [
        "print(model_search_log.best_params_)"
      ]
    },
    {
      "cell_type": "code",
      "execution_count": null,
      "metadata": {
        "id": "QXW8Q3FepMUr"
      },
      "outputs": [],
      "source": [
        "best_xgb_log = model_search_log.best_estimator_"
      ]
    },
    {
      "cell_type": "code",
      "execution_count": null,
      "metadata": {
        "id": "BcEIJ5HTpMUr",
        "outputId": "c4b5bb4b-01a0-4864-e796-e0463f66816c",
        "scrolled": true
      },
      "outputs": [
        {
          "name": "stdout",
          "output_type": "stream",
          "text": [
            "training set r-squared:  0.9519741197164792\n",
            "test set r-squared:      0.9192446044219327\n",
            "training set rmse:       74766.35000405362\n",
            "test set rmse:           120609.19385731044\n",
            "training set mape:       0.08367631684636473\n",
            "test set mape:           0.10717089609238625\n"
          ]
        }
      ],
      "source": [
        "pred_train = np.exp(best_xgb_log.predict(X_train))\n",
        "pred_test = np.exp(best_xgb_log.predict(X_test))\n",
        "print('training set r-squared: ', best_xgb_log.score(X_train, np.log(y_train)))\n",
        "print('test set r-squared:     ', best_xgb_log.score(X_test, np.log(y_test)))\n",
        "print('training set rmse:      ', np.sqrt(mean_squared_error(y_train, pred_train)))\n",
        "print('test set rmse:          ', np.sqrt(mean_squared_error(y_test, pred_test)))\n",
        "print('training set mape:      ', mean_absolute_percentage_error(y_train, pred_train))\n",
        "print('test set mape:          ', mean_absolute_percentage_error(y_test, pred_test))"
      ]
    },
    {
      "cell_type": "code",
      "execution_count": null,
      "metadata": {
        "id": "SdS6yK8hpMUr",
        "outputId": "88551c39-80e1-4f47-d2b2-d299fa82b75d"
      },
      "outputs": [
        {
          "data": {
            "text/plain": [
              "['best_xgb_log_0506_9192.joblib']"
            ]
          },
          "execution_count": 16,
          "metadata": {},
          "output_type": "execute_result"
        }
      ],
      "source": [
        "# joblib.dump(best_xgb_log, 'best_xgb_log_0506_9192.joblib')"
      ]
    },
    {
      "cell_type": "code",
      "execution_count": null,
      "metadata": {
        "id": "5oa1-DPspMUr"
      },
      "outputs": [],
      "source": []
    },
    {
      "cell_type": "code",
      "execution_count": null,
      "metadata": {
        "id": "COWtuATXpMUr"
      },
      "outputs": [],
      "source": [
        "# Define parameter grid for GridSearchCV\n",
        "param_grid = {\n",
        "    'max_depth': [7, 8],\n",
        "    'n_estimators': [550, 600],\n",
        "    'colsample_bytree': [0.25, 0.3, 0.35],\n",
        "    'reg_alpha': [1.5, 2, 2.5],\n",
        "    'reg_lambda': [5.5, 6, 6.5]\n",
        "}\n"
      ]
    },
    {
      "cell_type": "code",
      "execution_count": null,
      "metadata": {
        "id": "zeBR8zPWpMUs"
      },
      "outputs": [],
      "source": [
        "model = XGBRegressor(**{'reg_lambda': 6,\n",
        "                        'reg_alpha': 2,\n",
        "                        'n_estimators': 550,\n",
        "                        'max_depth': 7,\n",
        "                        'learning_rate': 0.06,\n",
        "                        'colsample_bytree': 0.3})"
      ]
    },
    {
      "cell_type": "code",
      "execution_count": null,
      "metadata": {
        "id": "n8tuWhbJpMUs"
      },
      "outputs": [],
      "source": [
        "model_search_log = GridSearchCV(model, param_grid=param_grid, cv=5, n_jobs=-1, verbose=1)"
      ]
    },
    {
      "cell_type": "code",
      "execution_count": null,
      "metadata": {
        "id": "Gn8_VvrXpMUs",
        "outputId": "e945b48c-3a03-4827-a0f3-83d538b85b6d"
      },
      "outputs": [
        {
          "name": "stdout",
          "output_type": "stream",
          "text": [
            "Fitting 5 folds for each of 108 candidates, totalling 540 fits\n"
          ]
        },
        {
          "data": {
            "text/plain": [
              "GridSearchCV(cv=5,\n",
              "             estimator=XGBRegressor(base_score=None, booster=None,\n",
              "                                    callbacks=None, colsample_bylevel=None,\n",
              "                                    colsample_bynode=None, colsample_bytree=0.3,\n",
              "                                    early_stopping_rounds=None,\n",
              "                                    enable_categorical=False, eval_metric=None,\n",
              "                                    feature_types=None, gamma=None, gpu_id=None,\n",
              "                                    grow_policy=None, importance_type=None,\n",
              "                                    interaction_constraints=None,\n",
              "                                    learning_rate=0.06, ma...\n",
              "                                    max_cat_to_onehot=None, max_delta_step=None,\n",
              "                                    max_depth=7, max_leaves=None,\n",
              "                                    min_child_weight=None, missing=nan,\n",
              "                                    monotone_constraints=None, n_estimators=550,\n",
              "                                    n_jobs=None, num_parallel_tree=None,\n",
              "                                    predictor=None, random_state=None, ...),\n",
              "             n_jobs=-1,\n",
              "             param_grid={'colsample_bytree': [0.25, 0.3, 0.35],\n",
              "                         'max_depth': [7, 8], 'n_estimators': [550, 600],\n",
              "                         'reg_alpha': [1.5, 2, 2.5],\n",
              "                         'reg_lambda': [5.5, 6, 6.5]},\n",
              "             verbose=1)"
            ]
          },
          "execution_count": 20,
          "metadata": {},
          "output_type": "execute_result"
        }
      ],
      "source": [
        "model_search_log.fit(X_train, np.log(y_train))"
      ]
    },
    {
      "cell_type": "code",
      "execution_count": null,
      "metadata": {
        "id": "SEli1VbgpMUs",
        "outputId": "9324eee7-1c47-4df7-b7f9-65ab64941b87"
      },
      "outputs": [
        {
          "name": "stdout",
          "output_type": "stream",
          "text": [
            "{'colsample_bytree': 0.3, 'max_depth': 7, 'n_estimators': 600, 'reg_alpha': 2, 'reg_lambda': 6}\n"
          ]
        }
      ],
      "source": [
        "print(model_search_log.best_params_)"
      ]
    },
    {
      "cell_type": "code",
      "execution_count": null,
      "metadata": {
        "id": "VRd0U1EgpMUs"
      },
      "outputs": [],
      "source": [
        "best_xgb_log = model_search_log.best_estimator_"
      ]
    },
    {
      "cell_type": "code",
      "execution_count": null,
      "metadata": {
        "id": "xNOtqI5epMUs",
        "outputId": "db7218db-5c16-424d-84ba-39cfa8fbfe82",
        "scrolled": false
      },
      "outputs": [
        {
          "name": "stdout",
          "output_type": "stream",
          "text": [
            "training set r-squared:  0.9538955070530486\n",
            "test set r-squared:      0.9193857002194192\n",
            "training set rmse:       73188.7344169428\n",
            "test set rmse:           120298.3705110394\n",
            "training set mape:       0.08195083553787552\n",
            "test set mape:           0.10707397737459101\n"
          ]
        }
      ],
      "source": [
        "pred_train = np.exp(best_xgb_log.predict(X_train))\n",
        "pred_test = np.exp(best_xgb_log.predict(X_test))\n",
        "print('training set r-squared: ', best_xgb_log.score(X_train, np.log(y_train)))\n",
        "print('test set r-squared:     ', best_xgb_log.score(X_test, np.log(y_test)))\n",
        "print('training set rmse:      ', np.sqrt(mean_squared_error(y_train, pred_train)))\n",
        "print('test set rmse:          ', np.sqrt(mean_squared_error(y_test, pred_test)))\n",
        "print('training set mape:      ', mean_absolute_percentage_error(y_train, pred_train))\n",
        "print('test set mape:          ', mean_absolute_percentage_error(y_test, pred_test))"
      ]
    },
    {
      "cell_type": "code",
      "execution_count": null,
      "metadata": {
        "id": "LLhNl9uPpMUt"
      },
      "outputs": [],
      "source": [
        "# joblib.dump(best_xgb_log, 'best_xgb_log_0506_9192.joblib')"
      ]
    },
    {
      "cell_type": "code",
      "execution_count": null,
      "metadata": {
        "id": "1S8D365upMUt"
      },
      "outputs": [],
      "source": []
    },
    {
      "cell_type": "code",
      "execution_count": null,
      "metadata": {
        "id": "A-7gT3bppMUt"
      },
      "outputs": [],
      "source": [
        "# Define parameter grid for GridSearchCV\n",
        "param_grid = {\n",
        "    'n_estimators': [600, 650, 700],\n",
        "}\n"
      ]
    },
    {
      "cell_type": "code",
      "execution_count": null,
      "metadata": {
        "id": "C4Of_8jupMUt"
      },
      "outputs": [],
      "source": [
        "model = XGBRegressor(**{'reg_lambda': 6,\n",
        "                        'reg_alpha': 2,\n",
        "                        'n_estimators': 600,\n",
        "                        'max_depth': 7,\n",
        "                        'learning_rate': 0.06,\n",
        "                        'colsample_bytree': 0.3})"
      ]
    },
    {
      "cell_type": "code",
      "execution_count": null,
      "metadata": {
        "id": "VIM0zYiupMUt"
      },
      "outputs": [],
      "source": [
        "model_search_log = GridSearchCV(model, param_grid=param_grid, cv=5, n_jobs=-1, verbose=1)"
      ]
    },
    {
      "cell_type": "code",
      "execution_count": null,
      "metadata": {
        "id": "VPLqGurYpMUt",
        "outputId": "c9ddc679-e02a-41b7-c4d5-a380017c36b1"
      },
      "outputs": [
        {
          "name": "stdout",
          "output_type": "stream",
          "text": [
            "Fitting 5 folds for each of 3 candidates, totalling 15 fits\n"
          ]
        },
        {
          "data": {
            "text/plain": [
              "GridSearchCV(cv=5,\n",
              "             estimator=XGBRegressor(base_score=None, booster=None,\n",
              "                                    callbacks=None, colsample_bylevel=None,\n",
              "                                    colsample_bynode=None, colsample_bytree=0.3,\n",
              "                                    early_stopping_rounds=None,\n",
              "                                    enable_categorical=False, eval_metric=None,\n",
              "                                    feature_types=None, gamma=None, gpu_id=None,\n",
              "                                    grow_policy=None, importance_type=None,\n",
              "                                    interaction_constraints=None,\n",
              "                                    learning_rate=0.06, max_bin=None,\n",
              "                                    max_cat_threshold=None,\n",
              "                                    max_cat_to_onehot=None, max_delta_step=None,\n",
              "                                    max_depth=7, max_leaves=None,\n",
              "                                    min_child_weight=None, missing=nan,\n",
              "                                    monotone_constraints=None, n_estimators=600,\n",
              "                                    n_jobs=None, num_parallel_tree=None,\n",
              "                                    predictor=None, random_state=None, ...),\n",
              "             n_jobs=-1, param_grid={'n_estimators': [600, 650, 700]},\n",
              "             verbose=1)"
            ]
          },
          "execution_count": 28,
          "metadata": {},
          "output_type": "execute_result"
        }
      ],
      "source": [
        "model_search_log.fit(X_train, np.log(y_train))"
      ]
    },
    {
      "cell_type": "code",
      "execution_count": null,
      "metadata": {
        "id": "c8B9mxR_pMUt",
        "outputId": "c201024e-5523-4765-f526-4fbd5fc72e52"
      },
      "outputs": [
        {
          "name": "stdout",
          "output_type": "stream",
          "text": [
            "{'n_estimators': 700}\n"
          ]
        }
      ],
      "source": [
        "print(model_search_log.best_params_)"
      ]
    },
    {
      "cell_type": "code",
      "execution_count": null,
      "metadata": {
        "id": "t1uOaE3ipMUu"
      },
      "outputs": [],
      "source": [
        "best_xgb_log = model_search_log.best_estimator_"
      ]
    },
    {
      "cell_type": "code",
      "execution_count": null,
      "metadata": {
        "id": "2kFnjcgjpMUu",
        "outputId": "c2f6486b-ca67-48d8-911c-b07699dc7e11",
        "scrolled": false
      },
      "outputs": [
        {
          "name": "stdout",
          "output_type": "stream",
          "text": [
            "training set r-squared:  0.9572883349077336\n",
            "test set r-squared:      0.9195335721578998\n",
            "training set rmse:       69895.63161204052\n",
            "test set rmse:           119799.14741726019\n",
            "training set mape:       0.07884935493327737\n",
            "test set mape:           0.10696072300390187\n"
          ]
        }
      ],
      "source": [
        "pred_train = np.exp(best_xgb_log.predict(X_train))\n",
        "pred_test = np.exp(best_xgb_log.predict(X_test))\n",
        "print('training set r-squared: ', best_xgb_log.score(X_train, np.log(y_train)))\n",
        "print('test set r-squared:     ', best_xgb_log.score(X_test, np.log(y_test)))\n",
        "print('training set rmse:      ', np.sqrt(mean_squared_error(y_train, pred_train)))\n",
        "print('test set rmse:          ', np.sqrt(mean_squared_error(y_test, pred_test)))\n",
        "print('training set mape:      ', mean_absolute_percentage_error(y_train, pred_train))\n",
        "print('test set mape:          ', mean_absolute_percentage_error(y_test, pred_test))"
      ]
    },
    {
      "cell_type": "code",
      "execution_count": null,
      "metadata": {
        "id": "1Lw7b42bpMUu",
        "outputId": "9ebbbfbd-e5b9-4d37-9f03-cf98a44c5a9d"
      },
      "outputs": [
        {
          "data": {
            "text/plain": [
              "['best_xgb_log_0506_9195.joblib']"
            ]
          },
          "execution_count": 32,
          "metadata": {},
          "output_type": "execute_result"
        }
      ],
      "source": [
        "# joblib.dump(best_xgb_log, 'best_xgb_log_0506_9195.joblib')"
      ]
    },
    {
      "cell_type": "code",
      "execution_count": null,
      "metadata": {
        "id": "TOb00FcApMUu"
      },
      "outputs": [],
      "source": []
    },
    {
      "cell_type": "code",
      "execution_count": null,
      "metadata": {
        "id": "aakljxdKpMUu"
      },
      "outputs": [],
      "source": [
        "# Define parameter grid for GridSearchCV\n",
        "param_grid = {\n",
        "    'n_estimators': [700, 750, 800],\n",
        "}\n"
      ]
    },
    {
      "cell_type": "code",
      "execution_count": null,
      "metadata": {
        "id": "UxTS6rbGpMUu"
      },
      "outputs": [],
      "source": [
        "model = XGBRegressor(**{'reg_lambda': 6,\n",
        "                        'reg_alpha': 2,\n",
        "                        'n_estimators': 600,\n",
        "                        'max_depth': 7,\n",
        "                        'learning_rate': 0.06,\n",
        "                        'colsample_bytree': 0.3})"
      ]
    },
    {
      "cell_type": "code",
      "execution_count": null,
      "metadata": {
        "id": "7my5mmMQpMUz"
      },
      "outputs": [],
      "source": [
        "model_search_log = GridSearchCV(model, param_grid=param_grid, cv=5, n_jobs=-1, verbose=1)"
      ]
    },
    {
      "cell_type": "code",
      "execution_count": null,
      "metadata": {
        "id": "RYk8irgkpMUz",
        "outputId": "90881b41-e797-494c-efe2-c14375f609e4"
      },
      "outputs": [
        {
          "name": "stdout",
          "output_type": "stream",
          "text": [
            "Fitting 5 folds for each of 3 candidates, totalling 15 fits\n"
          ]
        },
        {
          "data": {
            "text/plain": [
              "GridSearchCV(cv=5,\n",
              "             estimator=XGBRegressor(base_score=None, booster=None,\n",
              "                                    callbacks=None, colsample_bylevel=None,\n",
              "                                    colsample_bynode=None, colsample_bytree=0.3,\n",
              "                                    early_stopping_rounds=None,\n",
              "                                    enable_categorical=False, eval_metric=None,\n",
              "                                    feature_types=None, gamma=None, gpu_id=None,\n",
              "                                    grow_policy=None, importance_type=None,\n",
              "                                    interaction_constraints=None,\n",
              "                                    learning_rate=0.06, max_bin=None,\n",
              "                                    max_cat_threshold=None,\n",
              "                                    max_cat_to_onehot=None, max_delta_step=None,\n",
              "                                    max_depth=7, max_leaves=None,\n",
              "                                    min_child_weight=None, missing=nan,\n",
              "                                    monotone_constraints=None, n_estimators=600,\n",
              "                                    n_jobs=None, num_parallel_tree=None,\n",
              "                                    predictor=None, random_state=None, ...),\n",
              "             n_jobs=-1, param_grid={'n_estimators': [700, 750, 800]},\n",
              "             verbose=1)"
            ]
          },
          "execution_count": 36,
          "metadata": {},
          "output_type": "execute_result"
        }
      ],
      "source": [
        "model_search_log.fit(X_train, np.log(y_train))"
      ]
    },
    {
      "cell_type": "code",
      "execution_count": null,
      "metadata": {
        "id": "XWQSBgZCpMUz",
        "outputId": "e802ebcd-6379-444e-c8b2-dd38ff94e597"
      },
      "outputs": [
        {
          "name": "stdout",
          "output_type": "stream",
          "text": [
            "{'n_estimators': 700}\n"
          ]
        }
      ],
      "source": [
        "print(model_search_log.best_params_)"
      ]
    },
    {
      "cell_type": "code",
      "execution_count": null,
      "metadata": {
        "id": "bB654aEkpMUz"
      },
      "outputs": [],
      "source": [
        "best_xgb_log = model_search_log.best_estimator_"
      ]
    },
    {
      "cell_type": "code",
      "execution_count": null,
      "metadata": {
        "id": "3TvQfjAVpMUz",
        "outputId": "53dc6a3a-ec29-48a3-f59d-41c90910c81e",
        "scrolled": false
      },
      "outputs": [
        {
          "name": "stdout",
          "output_type": "stream",
          "text": [
            "training set r-squared:  0.9572883349077336\n",
            "test set r-squared:      0.9195335721578998\n",
            "training set rmse:       69895.63161204052\n",
            "test set rmse:           119799.14741726019\n",
            "training set mape:       0.07884935493327737\n",
            "test set mape:           0.10696072300390187\n"
          ]
        }
      ],
      "source": [
        "pred_train = np.exp(best_xgb_log.predict(X_train))\n",
        "pred_test = np.exp(best_xgb_log.predict(X_test))\n",
        "print('training set r-squared: ', best_xgb_log.score(X_train, np.log(y_train)))\n",
        "print('test set r-squared:     ', best_xgb_log.score(X_test, np.log(y_test)))\n",
        "print('training set rmse:      ', np.sqrt(mean_squared_error(y_train, pred_train)))\n",
        "print('test set rmse:          ', np.sqrt(mean_squared_error(y_test, pred_test)))\n",
        "print('training set mape:      ', mean_absolute_percentage_error(y_train, pred_train))\n",
        "print('test set mape:          ', mean_absolute_percentage_error(y_test, pred_test))"
      ]
    },
    {
      "cell_type": "code",
      "execution_count": null,
      "metadata": {
        "id": "tyOdf_sdpMUz"
      },
      "outputs": [],
      "source": [
        "# joblib.dump(best_xgb_log, 'best_xgb_log_0506_9195.joblib')"
      ]
    },
    {
      "cell_type": "code",
      "execution_count": null,
      "metadata": {
        "id": "BGMAgj2epMUz"
      },
      "outputs": [],
      "source": []
    },
    {
      "cell_type": "code",
      "execution_count": null,
      "metadata": {
        "id": "iTlZp5V5pMU0"
      },
      "outputs": [],
      "source": []
    },
    {
      "cell_type": "code",
      "execution_count": null,
      "metadata": {
        "id": "jfItOVvPpMU0"
      },
      "outputs": [],
      "source": []
    },
    {
      "cell_type": "code",
      "execution_count": null,
      "metadata": {
        "id": "n40Gca74pMU0"
      },
      "outputs": [],
      "source": []
    }
  ],
  "metadata": {
    "colab": {
      "provenance": []
    },
    "kernelspec": {
      "display_name": "Python 3 (ipykernel)",
      "language": "python",
      "name": "python3"
    },
    "language_info": {
      "codemirror_mode": {
        "name": "ipython",
        "version": 3
      },
      "file_extension": ".py",
      "mimetype": "text/x-python",
      "name": "python",
      "nbconvert_exporter": "python",
      "pygments_lexer": "ipython3",
      "version": "3.9.13"
    }
  },
  "nbformat": 4,
  "nbformat_minor": 0
}
